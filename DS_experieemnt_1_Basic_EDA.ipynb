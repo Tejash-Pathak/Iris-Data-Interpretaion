{
  "nbformat": 4,
  "nbformat_minor": 0,
  "metadata": {
    "colab": {
      "name": "DS experieemnt-1 Basic EDA.ipynb",
      "provenance": [],
      "collapsed_sections": [],
      "authorship_tag": "ABX9TyMycF5+aC4T7Qotqps+JmGw",
      "include_colab_link": true
    },
    "kernelspec": {
      "name": "python3",
      "display_name": "Python 3"
    },
    "language_info": {
      "name": "python"
    }
  },
  "cells": [
    {
      "cell_type": "markdown",
      "metadata": {
        "id": "view-in-github",
        "colab_type": "text"
      },
      "source": [
        "<a href=\"https://colab.research.google.com/github/Tejash-Pathak/Iris-Data-Interpretaion/blob/main/DS_experieemnt_1_Basic_EDA.ipynb\" target=\"_parent\"><img src=\"https://colab.research.google.com/assets/colab-badge.svg\" alt=\"Open In Colab\"/></a>"
      ]
    },
    {
      "cell_type": "markdown",
      "metadata": {
        "id": "dVhTXtgx4D26"
      },
      "source": [
        "##My father asked me to do the following today:\n",
        "<hr>\n",
        "\n",
        "*    Load Iris data \n",
        "\n",
        "*    Find max, min, average of allthe atributes \n",
        "\n",
        "*    Scatter plot of sepal width and petal lenght by each flower type\n",
        "\n",
        "*    Add regression line to Scatter plot\n",
        "\n",
        "*    Box plot to compare sepal width of all flower types"
      ]
    },
    {
      "cell_type": "code",
      "metadata": {
        "id": "_98CCv0Qy1Ke"
      },
      "source": [
        "# importing libraries. I have download the data already from internet\n",
        "\n",
        "import matplotlib.pyplot as plt\n",
        "import numpy as np\n",
        "import pandas as pd\n",
        "import seaborn as sns\n",
        "from scipy import misc\n",
        "from PIL import Image\n"
      ],
      "execution_count": 2,
      "outputs": []
    },
    {
      "cell_type": "code",
      "metadata": {
        "colab": {
          "base_uri": "https://localhost:8080/"
        },
        "id": "TkvOA7GC0Ft6",
        "outputId": "28f2a05e-d7c6-46fb-f8b9-f875c7433054"
      },
      "source": [
        "with open(\"iris.data\") as data: \n",
        "    content=pd.read_csv(data) \n",
        "    df=pd.DataFrame(content)\n",
        "    content=df.rename(columns={\"5.1\":\"Sepal_length\",\"3.5\":\"Sepal_width\", \"1.4\":\"Petal_length\", \"0.2\":\"Petal_width\", \"Iris-setosa\":\"Type\"})\n",
        "    print(content.mean())\n",
        "    print(content.mode(numeric_only=True))\n",
        "    print(content.median(numeric_only=True))"
      ],
      "execution_count": 3,
      "outputs": [
        {
          "output_type": "stream",
          "name": "stdout",
          "text": [
            "Sepal_length    5.848322\n",
            "Sepal_width     3.051007\n",
            "Petal_length    3.774497\n",
            "Petal_width     1.205369\n",
            "dtype: float64\n",
            "   Sepal_length  Sepal_width  Petal_length  Petal_width\n",
            "0           5.0          3.0           1.5          0.2\n",
            "Sepal_length    5.8\n",
            "Sepal_width     3.0\n",
            "Petal_length    4.4\n",
            "Petal_width     1.3\n",
            "dtype: float64\n"
          ]
        }
      ]
    },
    {
      "cell_type": "code",
      "metadata": {
        "colab": {
          "base_uri": "https://localhost:8080/"
        },
        "id": "2ENBgXc2AydD",
        "outputId": "e2ce53f8-1f3c-40fa-8e80-7253b4df61a9"
      },
      "source": [
        "data = open(\"iris.data\")\n",
        "print(data.read())"
      ],
      "execution_count": 4,
      "outputs": [
        {
          "output_type": "stream",
          "name": "stdout",
          "text": [
            "5.1,3.5,1.4,0.2,Iris-setosa\n",
            "4.9,3.0,1.4,0.2,Iris-setosa\n",
            "4.7,3.2,1.3,0.2,Iris-setosa\n",
            "4.6,3.1,1.5,0.2,Iris-setosa\n",
            "5.0,3.6,1.4,0.2,Iris-setosa\n",
            "5.4,3.9,1.7,0.4,Iris-setosa\n",
            "4.6,3.4,1.4,0.3,Iris-setosa\n",
            "5.0,3.4,1.5,0.2,Iris-setosa\n",
            "4.4,2.9,1.4,0.2,Iris-setosa\n",
            "4.9,3.1,1.5,0.1,Iris-setosa\n",
            "5.4,3.7,1.5,0.2,Iris-setosa\n",
            "4.8,3.4,1.6,0.2,Iris-setosa\n",
            "4.8,3.0,1.4,0.1,Iris-setosa\n",
            "4.3,3.0,1.1,0.1,Iris-setosa\n",
            "5.8,4.0,1.2,0.2,Iris-setosa\n",
            "5.7,4.4,1.5,0.4,Iris-setosa\n",
            "5.4,3.9,1.3,0.4,Iris-setosa\n",
            "5.1,3.5,1.4,0.3,Iris-setosa\n",
            "5.7,3.8,1.7,0.3,Iris-setosa\n",
            "5.1,3.8,1.5,0.3,Iris-setosa\n",
            "5.4,3.4,1.7,0.2,Iris-setosa\n",
            "5.1,3.7,1.5,0.4,Iris-setosa\n",
            "4.6,3.6,1.0,0.2,Iris-setosa\n",
            "5.1,3.3,1.7,0.5,Iris-setosa\n",
            "4.8,3.4,1.9,0.2,Iris-setosa\n",
            "5.0,3.0,1.6,0.2,Iris-setosa\n",
            "5.0,3.4,1.6,0.4,Iris-setosa\n",
            "5.2,3.5,1.5,0.2,Iris-setosa\n",
            "5.2,3.4,1.4,0.2,Iris-setosa\n",
            "4.7,3.2,1.6,0.2,Iris-setosa\n",
            "4.8,3.1,1.6,0.2,Iris-setosa\n",
            "5.4,3.4,1.5,0.4,Iris-setosa\n",
            "5.2,4.1,1.5,0.1,Iris-setosa\n",
            "5.5,4.2,1.4,0.2,Iris-setosa\n",
            "4.9,3.1,1.5,0.1,Iris-setosa\n",
            "5.0,3.2,1.2,0.2,Iris-setosa\n",
            "5.5,3.5,1.3,0.2,Iris-setosa\n",
            "4.9,3.1,1.5,0.1,Iris-setosa\n",
            "4.4,3.0,1.3,0.2,Iris-setosa\n",
            "5.1,3.4,1.5,0.2,Iris-setosa\n",
            "5.0,3.5,1.3,0.3,Iris-setosa\n",
            "4.5,2.3,1.3,0.3,Iris-setosa\n",
            "4.4,3.2,1.3,0.2,Iris-setosa\n",
            "5.0,3.5,1.6,0.6,Iris-setosa\n",
            "5.1,3.8,1.9,0.4,Iris-setosa\n",
            "4.8,3.0,1.4,0.3,Iris-setosa\n",
            "5.1,3.8,1.6,0.2,Iris-setosa\n",
            "4.6,3.2,1.4,0.2,Iris-setosa\n",
            "5.3,3.7,1.5,0.2,Iris-setosa\n",
            "5.0,3.3,1.4,0.2,Iris-setosa\n",
            "7.0,3.2,4.7,1.4,Iris-versicolor\n",
            "6.4,3.2,4.5,1.5,Iris-versicolor\n",
            "6.9,3.1,4.9,1.5,Iris-versicolor\n",
            "5.5,2.3,4.0,1.3,Iris-versicolor\n",
            "6.5,2.8,4.6,1.5,Iris-versicolor\n",
            "5.7,2.8,4.5,1.3,Iris-versicolor\n",
            "6.3,3.3,4.7,1.6,Iris-versicolor\n",
            "4.9,2.4,3.3,1.0,Iris-versicolor\n",
            "6.6,2.9,4.6,1.3,Iris-versicolor\n",
            "5.2,2.7,3.9,1.4,Iris-versicolor\n",
            "5.0,2.0,3.5,1.0,Iris-versicolor\n",
            "5.9,3.0,4.2,1.5,Iris-versicolor\n",
            "6.0,2.2,4.0,1.0,Iris-versicolor\n",
            "6.1,2.9,4.7,1.4,Iris-versicolor\n",
            "5.6,2.9,3.6,1.3,Iris-versicolor\n",
            "6.7,3.1,4.4,1.4,Iris-versicolor\n",
            "5.6,3.0,4.5,1.5,Iris-versicolor\n",
            "5.8,2.7,4.1,1.0,Iris-versicolor\n",
            "6.2,2.2,4.5,1.5,Iris-versicolor\n",
            "5.6,2.5,3.9,1.1,Iris-versicolor\n",
            "5.9,3.2,4.8,1.8,Iris-versicolor\n",
            "6.1,2.8,4.0,1.3,Iris-versicolor\n",
            "6.3,2.5,4.9,1.5,Iris-versicolor\n",
            "6.1,2.8,4.7,1.2,Iris-versicolor\n",
            "6.4,2.9,4.3,1.3,Iris-versicolor\n",
            "6.6,3.0,4.4,1.4,Iris-versicolor\n",
            "6.8,2.8,4.8,1.4,Iris-versicolor\n",
            "6.7,3.0,5.0,1.7,Iris-versicolor\n",
            "6.0,2.9,4.5,1.5,Iris-versicolor\n",
            "5.7,2.6,3.5,1.0,Iris-versicolor\n",
            "5.5,2.4,3.8,1.1,Iris-versicolor\n",
            "5.5,2.4,3.7,1.0,Iris-versicolor\n",
            "5.8,2.7,3.9,1.2,Iris-versicolor\n",
            "6.0,2.7,5.1,1.6,Iris-versicolor\n",
            "5.4,3.0,4.5,1.5,Iris-versicolor\n",
            "6.0,3.4,4.5,1.6,Iris-versicolor\n",
            "6.7,3.1,4.7,1.5,Iris-versicolor\n",
            "6.3,2.3,4.4,1.3,Iris-versicolor\n",
            "5.6,3.0,4.1,1.3,Iris-versicolor\n",
            "5.5,2.5,4.0,1.3,Iris-versicolor\n",
            "5.5,2.6,4.4,1.2,Iris-versicolor\n",
            "6.1,3.0,4.6,1.4,Iris-versicolor\n",
            "5.8,2.6,4.0,1.2,Iris-versicolor\n",
            "5.0,2.3,3.3,1.0,Iris-versicolor\n",
            "5.6,2.7,4.2,1.3,Iris-versicolor\n",
            "5.7,3.0,4.2,1.2,Iris-versicolor\n",
            "5.7,2.9,4.2,1.3,Iris-versicolor\n",
            "6.2,2.9,4.3,1.3,Iris-versicolor\n",
            "5.1,2.5,3.0,1.1,Iris-versicolor\n",
            "5.7,2.8,4.1,1.3,Iris-versicolor\n",
            "6.3,3.3,6.0,2.5,Iris-virginica\n",
            "5.8,2.7,5.1,1.9,Iris-virginica\n",
            "7.1,3.0,5.9,2.1,Iris-virginica\n",
            "6.3,2.9,5.6,1.8,Iris-virginica\n",
            "6.5,3.0,5.8,2.2,Iris-virginica\n",
            "7.6,3.0,6.6,2.1,Iris-virginica\n",
            "4.9,2.5,4.5,1.7,Iris-virginica\n",
            "7.3,2.9,6.3,1.8,Iris-virginica\n",
            "6.7,2.5,5.8,1.8,Iris-virginica\n",
            "7.2,3.6,6.1,2.5,Iris-virginica\n",
            "6.5,3.2,5.1,2.0,Iris-virginica\n",
            "6.4,2.7,5.3,1.9,Iris-virginica\n",
            "6.8,3.0,5.5,2.1,Iris-virginica\n",
            "5.7,2.5,5.0,2.0,Iris-virginica\n",
            "5.8,2.8,5.1,2.4,Iris-virginica\n",
            "6.4,3.2,5.3,2.3,Iris-virginica\n",
            "6.5,3.0,5.5,1.8,Iris-virginica\n",
            "7.7,3.8,6.7,2.2,Iris-virginica\n",
            "7.7,2.6,6.9,2.3,Iris-virginica\n",
            "6.0,2.2,5.0,1.5,Iris-virginica\n",
            "6.9,3.2,5.7,2.3,Iris-virginica\n",
            "5.6,2.8,4.9,2.0,Iris-virginica\n",
            "7.7,2.8,6.7,2.0,Iris-virginica\n",
            "6.3,2.7,4.9,1.8,Iris-virginica\n",
            "6.7,3.3,5.7,2.1,Iris-virginica\n",
            "7.2,3.2,6.0,1.8,Iris-virginica\n",
            "6.2,2.8,4.8,1.8,Iris-virginica\n",
            "6.1,3.0,4.9,1.8,Iris-virginica\n",
            "6.4,2.8,5.6,2.1,Iris-virginica\n",
            "7.2,3.0,5.8,1.6,Iris-virginica\n",
            "7.4,2.8,6.1,1.9,Iris-virginica\n",
            "7.9,3.8,6.4,2.0,Iris-virginica\n",
            "6.4,2.8,5.6,2.2,Iris-virginica\n",
            "6.3,2.8,5.1,1.5,Iris-virginica\n",
            "6.1,2.6,5.6,1.4,Iris-virginica\n",
            "7.7,3.0,6.1,2.3,Iris-virginica\n",
            "6.3,3.4,5.6,2.4,Iris-virginica\n",
            "6.4,3.1,5.5,1.8,Iris-virginica\n",
            "6.0,3.0,4.8,1.8,Iris-virginica\n",
            "6.9,3.1,5.4,2.1,Iris-virginica\n",
            "6.7,3.1,5.6,2.4,Iris-virginica\n",
            "6.9,3.1,5.1,2.3,Iris-virginica\n",
            "5.8,2.7,5.1,1.9,Iris-virginica\n",
            "6.8,3.2,5.9,2.3,Iris-virginica\n",
            "6.7,3.3,5.7,2.5,Iris-virginica\n",
            "6.7,3.0,5.2,2.3,Iris-virginica\n",
            "6.3,2.5,5.0,1.9,Iris-virginica\n",
            "6.5,3.0,5.2,2.0,Iris-virginica\n",
            "6.2,3.4,5.4,2.3,Iris-virginica\n",
            "5.9,3.0,5.1,1.8,Iris-virginica\n",
            "\n",
            "\n"
          ]
        }
      ]
    },
    {
      "cell_type": "code",
      "metadata": {
        "colab": {
          "base_uri": "https://localhost:8080/",
          "height": 204
        },
        "id": "lQU6WmK33UjK",
        "outputId": "61a83601-cc07-41d3-8e69-17a2ce1553cf"
      },
      "source": [
        "content.tail()"
      ],
      "execution_count": 5,
      "outputs": [
        {
          "output_type": "execute_result",
          "data": {
            "text/html": [
              "<div>\n",
              "<style scoped>\n",
              "    .dataframe tbody tr th:only-of-type {\n",
              "        vertical-align: middle;\n",
              "    }\n",
              "\n",
              "    .dataframe tbody tr th {\n",
              "        vertical-align: top;\n",
              "    }\n",
              "\n",
              "    .dataframe thead th {\n",
              "        text-align: right;\n",
              "    }\n",
              "</style>\n",
              "<table border=\"1\" class=\"dataframe\">\n",
              "  <thead>\n",
              "    <tr style=\"text-align: right;\">\n",
              "      <th></th>\n",
              "      <th>Sepal_length</th>\n",
              "      <th>Sepal_width</th>\n",
              "      <th>Petal_length</th>\n",
              "      <th>Petal_width</th>\n",
              "      <th>Type</th>\n",
              "    </tr>\n",
              "  </thead>\n",
              "  <tbody>\n",
              "    <tr>\n",
              "      <th>144</th>\n",
              "      <td>6.7</td>\n",
              "      <td>3.0</td>\n",
              "      <td>5.2</td>\n",
              "      <td>2.3</td>\n",
              "      <td>Iris-virginica</td>\n",
              "    </tr>\n",
              "    <tr>\n",
              "      <th>145</th>\n",
              "      <td>6.3</td>\n",
              "      <td>2.5</td>\n",
              "      <td>5.0</td>\n",
              "      <td>1.9</td>\n",
              "      <td>Iris-virginica</td>\n",
              "    </tr>\n",
              "    <tr>\n",
              "      <th>146</th>\n",
              "      <td>6.5</td>\n",
              "      <td>3.0</td>\n",
              "      <td>5.2</td>\n",
              "      <td>2.0</td>\n",
              "      <td>Iris-virginica</td>\n",
              "    </tr>\n",
              "    <tr>\n",
              "      <th>147</th>\n",
              "      <td>6.2</td>\n",
              "      <td>3.4</td>\n",
              "      <td>5.4</td>\n",
              "      <td>2.3</td>\n",
              "      <td>Iris-virginica</td>\n",
              "    </tr>\n",
              "    <tr>\n",
              "      <th>148</th>\n",
              "      <td>5.9</td>\n",
              "      <td>3.0</td>\n",
              "      <td>5.1</td>\n",
              "      <td>1.8</td>\n",
              "      <td>Iris-virginica</td>\n",
              "    </tr>\n",
              "  </tbody>\n",
              "</table>\n",
              "</div>"
            ],
            "text/plain": [
              "     Sepal_length  Sepal_width  Petal_length  Petal_width            Type\n",
              "144           6.7          3.0           5.2          2.3  Iris-virginica\n",
              "145           6.3          2.5           5.0          1.9  Iris-virginica\n",
              "146           6.5          3.0           5.2          2.0  Iris-virginica\n",
              "147           6.2          3.4           5.4          2.3  Iris-virginica\n",
              "148           5.9          3.0           5.1          1.8  Iris-virginica"
            ]
          },
          "metadata": {},
          "execution_count": 5
        }
      ]
    },
    {
      "cell_type": "code",
      "metadata": {
        "colab": {
          "base_uri": "https://localhost:8080/"
        },
        "id": "RWXsgRoZy1Dr",
        "outputId": "e3af8f55-9039-491f-f607-379e38b7ffcf"
      },
      "source": [
        "print(content.max())"
      ],
      "execution_count": 6,
      "outputs": [
        {
          "output_type": "stream",
          "name": "stdout",
          "text": [
            "Sepal_length               7.9\n",
            "Sepal_width                4.4\n",
            "Petal_length               6.9\n",
            "Petal_width                2.5\n",
            "Type            Iris-virginica\n",
            "dtype: object\n"
          ]
        }
      ]
    },
    {
      "cell_type": "code",
      "metadata": {
        "colab": {
          "base_uri": "https://localhost:8080/"
        },
        "id": "LdBb522Cy1B-",
        "outputId": "d309af9f-73a1-453e-b950-3e5a8b18db3c"
      },
      "source": [
        "print(content.min())"
      ],
      "execution_count": 7,
      "outputs": [
        {
          "output_type": "stream",
          "name": "stdout",
          "text": [
            "Sepal_length            4.3\n",
            "Sepal_width               2\n",
            "Petal_length              1\n",
            "Petal_width             0.1\n",
            "Type            Iris-setosa\n",
            "dtype: object\n"
          ]
        }
      ]
    },
    {
      "cell_type": "code",
      "metadata": {
        "id": "BsvJYvuky09I"
      },
      "source": [
        "Iris_setosa = content[content.Type == \"Iris-setosa\"]\n",
        "Iris_versicolor = content[content.Type == \"Iris-versicolor\"]\n",
        "Iris_virginica = content[content.Type == \"Iris-virginica\"]\n",
        "Iris_setosa_count = len(content[content.Type == \"Iris-setosa\"])\n",
        "Iris_versicolor_count = len(content[content.Type == \"Iris-versicolor\"])\n",
        "Iris_virginica_count = len(content[content.Type == \"Iris-virginica\"])"
      ],
      "execution_count": 8,
      "outputs": []
    },
    {
      "cell_type": "code",
      "metadata": {
        "id": "GLg2hysFy07u",
        "colab": {
          "base_uri": "https://localhost:8080/"
        },
        "outputId": "b2ae20d1-0885-4fbd-9755-7026920dfda5"
      },
      "source": [
        "setosa_mean = Iris_setosa.mean()\n",
        "print(Iris_setosa.mean())"
      ],
      "execution_count": 9,
      "outputs": [
        {
          "output_type": "stream",
          "name": "stdout",
          "text": [
            "Sepal_length    5.004082\n",
            "Sepal_width     3.416327\n",
            "Petal_length    1.465306\n",
            "Petal_width     0.244898\n",
            "dtype: float64\n"
          ]
        }
      ]
    },
    {
      "cell_type": "code",
      "metadata": {
        "id": "lGCrJWW0y03W",
        "colab": {
          "base_uri": "https://localhost:8080/"
        },
        "outputId": "952c6cbf-c40d-4464-f22e-d13d07884e47"
      },
      "source": [
        "setosa_max = Iris_setosa.max()\n",
        "print(Iris_setosa.max())"
      ],
      "execution_count": 10,
      "outputs": [
        {
          "output_type": "stream",
          "name": "stdout",
          "text": [
            "Sepal_length            5.8\n",
            "Sepal_width             4.4\n",
            "Petal_length            1.9\n",
            "Petal_width             0.6\n",
            "Type            Iris-setosa\n",
            "dtype: object\n"
          ]
        }
      ]
    },
    {
      "cell_type": "code",
      "metadata": {
        "id": "6rE-19KWy01j",
        "colab": {
          "base_uri": "https://localhost:8080/"
        },
        "outputId": "469a0637-33e1-44ea-9e0d-bc7ecbd7e071"
      },
      "source": [
        "setosa_min = Iris_setosa.min()\n",
        "print(Iris_setosa.min())"
      ],
      "execution_count": 11,
      "outputs": [
        {
          "output_type": "stream",
          "name": "stdout",
          "text": [
            "Sepal_length            4.3\n",
            "Sepal_width             2.3\n",
            "Petal_length              1\n",
            "Petal_width             0.1\n",
            "Type            Iris-setosa\n",
            "dtype: object\n"
          ]
        }
      ]
    },
    {
      "cell_type": "code",
      "metadata": {
        "id": "5DkLIRNyy0xn",
        "colab": {
          "base_uri": "https://localhost:8080/"
        },
        "outputId": "bc00aa66-9dce-4836-b231-9d1e67579eec"
      },
      "source": [
        "versicolor_mean = Iris_versicolor.mean()\n",
        "print(Iris_versicolor.mean())"
      ],
      "execution_count": 12,
      "outputs": [
        {
          "output_type": "stream",
          "name": "stdout",
          "text": [
            "Sepal_length    5.936\n",
            "Sepal_width     2.770\n",
            "Petal_length    4.260\n",
            "Petal_width     1.326\n",
            "dtype: float64\n"
          ]
        }
      ]
    },
    {
      "cell_type": "code",
      "metadata": {
        "id": "Bgm-zroQy0vq",
        "colab": {
          "base_uri": "https://localhost:8080/"
        },
        "outputId": "28716cc7-ecb5-471f-ea1f-8f20469b025c"
      },
      "source": [
        "versicolor_max = Iris_versicolor.max()\n",
        "print(Iris_versicolor.max())"
      ],
      "execution_count": 13,
      "outputs": [
        {
          "output_type": "stream",
          "name": "stdout",
          "text": [
            "Sepal_length                  7\n",
            "Sepal_width                 3.4\n",
            "Petal_length                5.1\n",
            "Petal_width                 1.8\n",
            "Type            Iris-versicolor\n",
            "dtype: object\n"
          ]
        }
      ]
    },
    {
      "cell_type": "code",
      "metadata": {
        "id": "kP3mFEKBy0qN",
        "colab": {
          "base_uri": "https://localhost:8080/"
        },
        "outputId": "618facfa-38e9-4ced-c2e2-4f493c41fdaf"
      },
      "source": [
        "versicolor_min = Iris_versicolor.min()\n",
        "print(Iris_versicolor.min())"
      ],
      "execution_count": 14,
      "outputs": [
        {
          "output_type": "stream",
          "name": "stdout",
          "text": [
            "Sepal_length                4.9\n",
            "Sepal_width                   2\n",
            "Petal_length                  3\n",
            "Petal_width                   1\n",
            "Type            Iris-versicolor\n",
            "dtype: object\n"
          ]
        }
      ]
    },
    {
      "cell_type": "code",
      "metadata": {
        "id": "YxB0-N-sx1i8",
        "colab": {
          "base_uri": "https://localhost:8080/"
        },
        "outputId": "c7d4402b-afd1-4e87-a51d-37dea8efb46a"
      },
      "source": [
        "virginica_mean = Iris_virginica.mean()\n",
        "print(Iris_virginica.mean())"
      ],
      "execution_count": 15,
      "outputs": [
        {
          "output_type": "stream",
          "name": "stdout",
          "text": [
            "Sepal_length    6.588\n",
            "Sepal_width     2.974\n",
            "Petal_length    5.552\n",
            "Petal_width     2.026\n",
            "dtype: float64\n"
          ]
        }
      ]
    },
    {
      "cell_type": "code",
      "metadata": {
        "colab": {
          "base_uri": "https://localhost:8080/"
        },
        "id": "_2TN0jWb-5s2",
        "outputId": "cf9db4e0-b365-4587-84a3-c3103bf12928"
      },
      "source": [
        "virginica_max = Iris_virginica.max()\n",
        "print(Iris_virginica.max())"
      ],
      "execution_count": 16,
      "outputs": [
        {
          "output_type": "stream",
          "name": "stdout",
          "text": [
            "Sepal_length               7.9\n",
            "Sepal_width                3.8\n",
            "Petal_length               6.9\n",
            "Petal_width                2.5\n",
            "Type            Iris-virginica\n",
            "dtype: object\n"
          ]
        }
      ]
    },
    {
      "cell_type": "code",
      "metadata": {
        "colab": {
          "base_uri": "https://localhost:8080/"
        },
        "id": "6t0lh_kQ-5pf",
        "outputId": "6081b7bc-3b11-4b59-f0f3-437be4a1e82e"
      },
      "source": [
        "virginica_min = Iris_virginica.min()\n",
        "print(Iris_virginica.min())"
      ],
      "execution_count": 17,
      "outputs": [
        {
          "output_type": "stream",
          "name": "stdout",
          "text": [
            "Sepal_length               4.9\n",
            "Sepal_width                2.2\n",
            "Petal_length               4.5\n",
            "Petal_width                1.4\n",
            "Type            Iris-virginica\n",
            "dtype: object\n"
          ]
        }
      ]
    },
    {
      "cell_type": "code",
      "metadata": {
        "colab": {
          "base_uri": "https://localhost:8080/"
        },
        "id": "PXkmVzek-5nU",
        "outputId": "725e6973-0390-438c-c8bf-1c02a65f693c"
      },
      "source": [
        "sepal_length = {\n",
        "    \"Type\": [\"Iris Setosa\", \"Iris Versicolor\", \"Iris Virginica\"],\n",
        "    \"Max\": [setosa_max.Sepal_length, versicolor_max.Sepal_length, virginica_max.Sepal_length],\n",
        "    \"Min\": [setosa_min.Sepal_length, versicolor_min.Sepal_length, virginica_min.Sepal_length],\n",
        "    \"Average\": [setosa_mean.Sepal_length, versicolor_mean.Sepal_length, virginica_mean.Sepal_length],\n",
        "    \"No. of Observations\": [Iris_setosa_count, Iris_versicolor_count, Iris_virginica_count]\n",
        "\n",
        "}\n",
        "\n",
        "\n",
        "sepal_length_df = pd.DataFrame(sepal_length)\n",
        "print(sepal_length_df)"
      ],
      "execution_count": 18,
      "outputs": [
        {
          "output_type": "stream",
          "name": "stdout",
          "text": [
            "              Type  Max  Min   Average  No. of Observations\n",
            "0      Iris Setosa  5.8  4.3  5.004082                   49\n",
            "1  Iris Versicolor  7.0  4.9  5.936000                   50\n",
            "2   Iris Virginica  7.9  4.9  6.588000                   50\n"
          ]
        }
      ]
    },
    {
      "cell_type": "code",
      "metadata": {
        "colab": {
          "base_uri": "https://localhost:8080/"
        },
        "id": "EOQsIokT-5je",
        "outputId": "d6e55364-0f66-4cb3-89f1-8c79004d8ce1"
      },
      "source": [
        "sepal_width = {\n",
        "    \"Type\": [\"Iris Setosa\", \"Iris Versicolor\", \"Iris Virginica\"],\n",
        "    \"Max\": [setosa_max.Sepal_width, versicolor_max.Sepal_width, virginica_max.Sepal_width],\n",
        "    \"Min\": [setosa_min.Sepal_width, versicolor_min.Sepal_width, virginica_min.Sepal_width],\n",
        "    \"Average\": [setosa_mean.Sepal_width, versicolor_mean.Sepal_width, virginica_mean.Sepal_width],\n",
        "    \"No. of Observations\": [Iris_setosa_count, Iris_versicolor_count, Iris_virginica_count]\n",
        "\n",
        "}\n",
        "\n",
        "\n",
        "sepal_width_df = pd.DataFrame(sepal_width)\n",
        "print(sepal_width_df)"
      ],
      "execution_count": 19,
      "outputs": [
        {
          "output_type": "stream",
          "name": "stdout",
          "text": [
            "              Type  Max  Min   Average  No. of Observations\n",
            "0      Iris Setosa  4.4  2.3  3.416327                   49\n",
            "1  Iris Versicolor  3.4  2.0  2.770000                   50\n",
            "2   Iris Virginica  3.8  2.2  2.974000                   50\n"
          ]
        }
      ]
    },
    {
      "cell_type": "code",
      "metadata": {
        "colab": {
          "base_uri": "https://localhost:8080/"
        },
        "id": "nebgt_CB-5gx",
        "outputId": "8c49c658-0de6-4505-fedc-3c30bf14aeab"
      },
      "source": [
        "petal_length = {\n",
        "    \"Type\": [\"Iris Setosa\", \"Iris Versicolor\", \"Iris Virginica\"],\n",
        "    \"Max\": [setosa_max.Petal_length, versicolor_max.Petal_length, virginica_max.Petal_length],\n",
        "    \"Min\": [setosa_min.Petal_length, versicolor_min.Petal_length, virginica_min.Petal_length],\n",
        "    \"Average\": [setosa_mean.Petal_length, versicolor_mean.Petal_length, virginica_mean.Petal_length],\n",
        "    \"No. of Observations\": [Iris_setosa_count, Iris_versicolor_count, Iris_virginica_count]\n",
        "\n",
        "}\n",
        "\n",
        "\n",
        "petal_length_df = pd.DataFrame(petal_length)\n",
        "print(petal_length_df)"
      ],
      "execution_count": 20,
      "outputs": [
        {
          "output_type": "stream",
          "name": "stdout",
          "text": [
            "              Type  Max  Min   Average  No. of Observations\n",
            "0      Iris Setosa  1.9  1.0  1.465306                   49\n",
            "1  Iris Versicolor  5.1  3.0  4.260000                   50\n",
            "2   Iris Virginica  6.9  4.5  5.552000                   50\n"
          ]
        }
      ]
    },
    {
      "cell_type": "code",
      "metadata": {
        "colab": {
          "base_uri": "https://localhost:8080/"
        },
        "id": "0qEfNEgH-5cw",
        "outputId": "bf41dc20-0079-43ea-8df2-0b1f0ea60caf"
      },
      "source": [
        "petal_width = {\n",
        "    \"Type\": [\"Iris Setosa\", \"Iris Versicolor\", \"Iris Virginica\"],\n",
        "    \"Max\": [setosa_max.Petal_width, versicolor_max.Petal_width, virginica_max.Petal_width],\n",
        "    \"Min\": [setosa_min.Petal_width, versicolor_min.Petal_width, virginica_min.Petal_width],\n",
        "    \"Average\": [setosa_mean.Petal_width, versicolor_mean.Petal_width, virginica_mean.Petal_width],\n",
        "    \"No. of Observations\": [Iris_setosa_count, Iris_versicolor_count, Iris_virginica_count]\n",
        "\n",
        "}\n",
        "\n",
        "\n",
        "petal_width_df = pd.DataFrame(petal_width)\n",
        "print(petal_width_df)"
      ],
      "execution_count": 21,
      "outputs": [
        {
          "output_type": "stream",
          "name": "stdout",
          "text": [
            "              Type  Max  Min   Average  No. of Observations\n",
            "0      Iris Setosa  0.6  0.1  0.244898                   49\n",
            "1  Iris Versicolor  1.8  1.0  1.326000                   50\n",
            "2   Iris Virginica  2.5  1.4  2.026000                   50\n"
          ]
        }
      ]
    },
    {
      "cell_type": "markdown",
      "metadata": {
        "id": "PepLu9v-nPzE"
      },
      "source": [
        "# Without regression line"
      ]
    },
    {
      "cell_type": "code",
      "metadata": {
        "id": "tDHCK-XQ-5Z3",
        "colab": {
          "base_uri": "https://localhost:8080/",
          "height": 279
        },
        "outputId": "2a39ac2d-2437-458b-94b9-281da1a13ffb"
      },
      "source": [
        "sepal_width_setosa = []\n",
        "sepal_width_versicolor = []\n",
        "sepal_width_virginica = []\n",
        "for i in range(49):\n",
        "    sepal_width_setosa.append(Iris_setosa.Sepal_width[i])\n",
        "for x in range(49,99):\n",
        "    sepal_width_versicolor.append(Iris_versicolor.Sepal_width[x])\n",
        "for y in range(99, 149):\n",
        "    sepal_width_virginica.append(Iris_virginica.Sepal_width[y])\n",
        "petal_length_setosa = []\n",
        "petal_length_versicolor = []\n",
        "petal_length_virginica = []\n",
        "for i in range(49):\n",
        "    petal_length_setosa.append(Iris_setosa.Petal_length[i])\n",
        "for x in range(49,99):\n",
        "    petal_length_versicolor.append(Iris_versicolor.Petal_length[x])\n",
        "for y in range(99, 149):\n",
        "    petal_length_virginica.append(Iris_virginica.Petal_length[y])\n",
        "\n",
        "plt.scatter(sepal_width_setosa, petal_length_setosa, c=\"red\", label=\"Iris Setosa\")\n",
        "\n",
        "plt.scatter(sepal_width_versicolor, petal_length_versicolor, c=\"blue\", label=\"Iris Versicolor\")\n",
        "plt.scatter(sepal_width_virginica, petal_length_virginica, c=\"green\", label=\"Iris Virginica\")\n",
        "\n",
        "plt.legend()\n",
        "plt.xlabel('Sepal Width')\n",
        "plt.ylabel('Petal Length')\n",
        "plt.show()"
      ],
      "execution_count": 22,
      "outputs": [
        {
          "output_type": "display_data",
          "data": {
            "image/png": "[encoded data removed]",
            "text/plain": [
              "<Figure size 432x288 with 1 Axes>"
            ]
          },
          "metadata": {
            "needs_background": "light"
          }
        }
      ]
    },
    {
      "cell_type": "markdown",
      "metadata": {
        "id": "0k6BcadZm-ue"
      },
      "source": [
        "# With Regression Line\n"
      ]
    },
    {
      "cell_type": "code",
      "metadata": {
        "id": "xuY-FBy2-5VY",
        "colab": {
          "base_uri": "https://localhost:8080/",
          "height": 282
        },
        "outputId": "02c83635-c2d1-4993-8019-45c37a8fb447"
      },
      "source": [
        "x = np.array(sepal_width_setosa)\n",
        "# generate data\n",
        "\n",
        "y = np.array(petal_length_setosa)\n",
        "plt.plot(x, y, 'o', label=\"Iris Setosa\", c=\"red\")\n",
        "plt.legend()\n",
        "# create scatter plot\n",
        "\n",
        "\n",
        "m, b = np.polyfit(x, y, 1)\n",
        "# m = slope, b=intercept\n",
        "\n",
        "\n",
        "plt.plot(x, m*x + b, label=\"Iris Setosa \\nRegression Line\")\n",
        "x = np.array(sepal_width_versicolor)\n",
        "# generate data\n",
        "\n",
        "y = np.array(petal_length_versicolor)\n",
        "plt.plot(x, y, 'o', label=\"Iris Versicolor\", c=\"blue\")\n",
        "plt.legend()\n",
        "# create scatter plot\n",
        "\n",
        "\n",
        "m, b = np.polyfit(x, y, 1)\n",
        "# m = slope, b=intercept\n",
        "\n",
        "\n",
        "plt.plot(x, m*x + b, c=\"pink\", label=\"Iris Versicolor \\nRegression Line\")\n",
        "x = np.array(sepal_width_virginica)\n",
        "# generate data\n",
        "\n",
        "y = np.array(petal_length_virginica)\n",
        "plt.plot(x, y, 'o', label=\"Iris Virginica\", c=\"green\")\n",
        "plt.legend()\n",
        "# create scatter plot\n",
        "\n",
        "\n",
        "m, b = np.polyfit(x, y, 1)\n",
        "# m = slope, b=intercept\n",
        "\n",
        "\n",
        "plt.plot(x, m*x + b, label=\"Iris Virginica \\nRegression Line\", c=\"orange\")\n",
        "plt.legend()"
      ],
      "execution_count": 23,
      "outputs": [
        {
          "output_type": "execute_result",
          "data": {
            "text/plain": [
              "<matplotlib.legend.Legend at 0x7f971e7ea590>"
            ]
          },
          "metadata": {},
          "execution_count": 23
        },
        {
          "output_type": "display_data",
          "data": {
            "image/png": "[encoded data removed]",
            "text/plain": [
              "<Figure size 432x288 with 1 Axes>"
            ]
          },
          "metadata": {
            "needs_background": "light"
          }
        }
      ]
    },
    {
      "cell_type": "code",
      "metadata": {
        "id": "O-TUjOBW-5Td",
        "colab": {
          "base_uri": "https://localhost:8080/",
          "height": 606
        },
        "outputId": "c42ac93c-7d47-43d0-b467-26a60dd078a3"
      },
      "source": [
        "\n",
        "# Import libraries\n",
        "import matplotlib.pyplot as plt\n",
        "import numpy as np\n",
        " \n",
        " \n",
        "# Creating dataset\n",
        "np.random.seed(10)\n",
        " \n",
        "data_1 = sepal_width_setosa\n",
        "data_2 = sepal_width_versicolor\n",
        "data_3 = sepal_width_virginica\n",
        "\n",
        "data = [data_1, data_2, data_3]\n",
        " \n",
        "fig = plt.figure(figsize =(10, 7))\n",
        " \n",
        "# Creating axes instance\n",
        "ax = fig.add_axes([0, 0, 1, 1])\n",
        " \n",
        "# Creating plot\n",
        "bp = ax.boxplot(data)\n",
        " \n",
        "# show plot\n",
        "plt.show()"
      ],
      "execution_count": 24,
      "outputs": [
        {
          "output_type": "stream",
          "name": "stderr",
          "text": [
            "/usr/local/lib/python3.7/dist-packages/numpy/core/_asarray.py:83: VisibleDeprecationWarning: Creating an ndarray from ragged nested sequences (which is a list-or-tuple of lists-or-tuples-or ndarrays with different lengths or shapes) is deprecated. If you meant to do this, you must specify 'dtype=object' when creating the ndarray\n",
            "  return array(a, dtype, copy=False, order=order)\n"
          ]
        },
        {
          "output_type": "display_data",
          "data": {
            "image/png": "[encoded data removed]",
            "text/plain": [
              "<Figure size 720x504 with 1 Axes>"
            ]
          },
          "metadata": {
            "needs_background": "light"
          }
        }
      ]
    },
    {
      "cell_type": "markdown",
      "metadata": {
        "id": "HNLhSaCuW2PE"
      },
      "source": [
        "# New Experiment with Iris data"
      ]
    },
    {
      "cell_type": "code",
      "metadata": {
        "id": "iFAwsrxX-5Pe",
        "colab": {
          "base_uri": "https://localhost:8080/",
          "height": 287
        },
        "outputId": "b8812932-8e74-483a-cf2f-05e04498b493"
      },
      "source": [
        "setosa_sepal_width_on_sepal_length = {\n",
        "    \"setosa_sepal_width\": Iris_setosa.Sepal_width,\n",
        "    \"setosa_sepal_length\": Iris_setosa.Sepal_length\n",
        "}\n",
        "setosa_sepal_width_on_sepal_length_df = pd.DataFrame(setosa_sepal_width_on_sepal_length)\n",
        "setosa_sepal_width_on_sepal_length_df_corr = setosa_sepal_width_on_sepal_length_df.corr()\n",
        "sns.heatmap(setosa_sepal_width_on_sepal_length_df_corr, annot=True)\n",
        "plt.show()\n",
        "setosa_sepal_width_on_sepal_length_df_corr.setosa_sepal_length[0]"
      ],
      "execution_count": 25,
      "outputs": [
        {
          "output_type": "display_data",
          "data": {
            "image/png": "[encoded data removed]",
            "text/plain": [
              "<Figure size 432x288 with 2 Axes>"
            ]
          },
          "metadata": {
            "needs_background": "light"
          }
        },
        {
          "output_type": "execute_result",
          "data": {
            "text/plain": [
              "0.7464980141992755"
            ]
          },
          "metadata": {},
          "execution_count": 25
        }
      ]
    },
    {
      "cell_type": "code",
      "metadata": {
        "id": "fqkxIhWL-5NM",
        "colab": {
          "base_uri": "https://localhost:8080/",
          "height": 287
        },
        "outputId": "ec7faf6b-a2fd-4e09-9f01-00de73274cc9"
      },
      "source": [
        "versicolor_sepal_width_on_sepal_length = {\n",
        "    \"versicolor_sepal_width\": Iris_versicolor.Sepal_width,\n",
        "    \"versicolor_sepal_length\": Iris_versicolor.Sepal_length\n",
        "}\n",
        "versicolor_sepal_width_on_sepal_length_df = pd.DataFrame(versicolor_sepal_width_on_sepal_length)\n",
        "versicolor_sepal_width_on_sepal_length_df_corr = versicolor_sepal_width_on_sepal_length_df.corr()\n",
        "sns.heatmap(versicolor_sepal_width_on_sepal_length_df_corr, annot=True)\n",
        "plt.show()\n",
        "versicolor_sepal_width_on_sepal_length_df_corr.versicolor_sepal_length[0]"
      ],
      "execution_count": 26,
      "outputs": [
        {
          "output_type": "display_data",
          "data": {
            "image/png": "[encoded data removed]",
            "text/plain": [
              "<Figure size 432x288 with 2 Axes>"
            ]
          },
          "metadata": {
            "needs_background": "light"
          }
        },
        {
          "output_type": "execute_result",
          "data": {
            "text/plain": [
              "0.5259107172828243"
            ]
          },
          "metadata": {},
          "execution_count": 26
        }
      ]
    },
    {
      "cell_type": "code",
      "metadata": {
        "id": "yr4UyJBR-5HH",
        "colab": {
          "base_uri": "https://localhost:8080/",
          "height": 287
        },
        "outputId": "d7c786db-1dce-4c86-e12a-0c9a42dc98d8"
      },
      "source": [
        "virginica_sepal_width_on_sepal_length = {\n",
        "    \"virginica_sepal_width\": Iris_virginica.Sepal_width,\n",
        "    \"virginica_sepal_length\": Iris_virginica.Sepal_length\n",
        "}\n",
        "virginica_sepal_width_on_sepal_length_df = pd.DataFrame(virginica_sepal_width_on_sepal_length)\n",
        "virginica_sepal_width_on_sepal_length_df_corr = virginica_sepal_width_on_sepal_length_df.corr()\n",
        "sns.heatmap(virginica_sepal_width_on_sepal_length_df_corr, annot=True)\n",
        "plt.show()\n",
        "virginica_sepal_width_on_sepal_length_df_corr.virginica_sepal_length[0]"
      ],
      "execution_count": 27,
      "outputs": [
        {
          "output_type": "display_data",
          "data": {
            "image/png": "[encoded data removed]",
            "text/plain": [
              "<Figure size 432x288 with 2 Axes>"
            ]
          },
          "metadata": {
            "needs_background": "light"
          }
        },
        {
          "output_type": "execute_result",
          "data": {
            "text/plain": [
              "0.45722781639411286"
            ]
          },
          "metadata": {},
          "execution_count": 27
        }
      ]
    },
    {
      "cell_type": "code",
      "metadata": {
        "id": "2NcvDlXU-46c",
        "colab": {
          "base_uri": "https://localhost:8080/",
          "height": 287
        },
        "outputId": "fcd2615c-6a0c-4d75-dfba-1b90f73a7370"
      },
      "source": [
        "setosa_petal_width_on_sepal_length = {\n",
        "    \"setosa_petal_width\": Iris_setosa.Petal_width,\n",
        "    \"setosa_sepal_length\": Iris_setosa.Sepal_length\n",
        "}\n",
        "setosa_petal_width_on_sepal_length_df = pd.DataFrame(setosa_petal_width_on_sepal_length)\n",
        "setosa_petal_width_on_sepal_length_df_corr = setosa_petal_width_on_sepal_length_df.corr()\n",
        "sns.heatmap(setosa_petal_width_on_sepal_length_df_corr, annot=True)\n",
        "plt.show()\n",
        "setosa_petal_width_on_sepal_length_df_corr.setosa_sepal_length[0]"
      ],
      "execution_count": 28,
      "outputs": [
        {
          "output_type": "display_data",
          "data": {
            "image/png": "[encoded data removed]",
            "text/plain": [
              "<Figure size 432x288 with 2 Axes>"
            ]
          },
          "metadata": {
            "needs_background": "light"
          }
        },
        {
          "output_type": "execute_result",
          "data": {
            "text/plain": [
              "0.28207447941796115"
            ]
          },
          "metadata": {},
          "execution_count": 28
        }
      ]
    },
    {
      "cell_type": "code",
      "metadata": {
        "id": "IaeNiGCNcQAZ",
        "colab": {
          "base_uri": "https://localhost:8080/",
          "height": 287
        },
        "outputId": "e1b7a6a2-1d32-47a4-bf2a-cbbbb62895e2"
      },
      "source": [
        "setosa_sepal_width_on_petal_length = {\n",
        "    \"setosa_sepal_width\": Iris_setosa.Sepal_width,\n",
        "    \"setosa_petal_length\": Iris_setosa.Petal_length\n",
        "}\n",
        "setosa_sepal_width_on_petal_length_df = pd.DataFrame(setosa_sepal_width_on_petal_length)\n",
        "setosa_sepal_width_on_petal_length_df_corr = setosa_sepal_width_on_petal_length_df.corr()\n",
        "sns.heatmap(setosa_sepal_width_on_petal_length_df_corr, annot=True)\n",
        "plt.show()\n",
        "setosa_sepal_width_on_petal_length_df_corr.setosa_petal_length[0]"
      ],
      "execution_count": 29,
      "outputs": [
        {
          "output_type": "display_data",
          "data": {
            "image/png": "[encoded data removed]",
            "text/plain": [
              "<Figure size 432x288 with 2 Axes>"
            ]
          },
          "metadata": {
            "needs_background": "light"
          }
        },
        {
          "output_type": "execute_result",
          "data": {
            "text/plain": [
              "0.17868708057649935"
            ]
          },
          "metadata": {},
          "execution_count": 29
        }
      ]
    },
    {
      "cell_type": "code",
      "metadata": {
        "colab": {
          "base_uri": "https://localhost:8080/",
          "height": 287
        },
        "id": "i66sZeOcNlJ5",
        "outputId": "9e9f6f25-9487-4ec6-8e63-f8b95930b89e"
      },
      "source": [
        "setosa_petal_width_on_petal_length = {\n",
        "    \"setosa_petal_width\": Iris_setosa.Petal_width,\n",
        "    \"setosa_petal_length\": Iris_setosa.Petal_length\n",
        "}\n",
        "setosa_petal_width_on_petal_length_df = pd.DataFrame(setosa_petal_width_on_petal_length)\n",
        "setosa_petal_width_on_petal_length_df_corr = setosa_petal_width_on_petal_length_df.corr()\n",
        "sns.heatmap(setosa_petal_width_on_petal_length_df_corr, annot=True)\n",
        "plt.show()\n",
        "setosa_petal_width_on_petal_length_df_corr.setosa_petal_length[0]"
      ],
      "execution_count": 30,
      "outputs": [
        {
          "output_type": "display_data",
          "data": {
            "image/png": "[encoded data removed]",
            "text/plain": [
              "<Figure size 432x288 with 2 Axes>"
            ]
          },
          "metadata": {
            "needs_background": "light"
          }
        },
        {
          "output_type": "execute_result",
          "data": {
            "text/plain": [
              "0.3041199626296533"
            ]
          },
          "metadata": {},
          "execution_count": 30
        }
      ]
    },
    {
      "cell_type": "code",
      "metadata": {
        "id": "FITPXgoRcP-M",
        "colab": {
          "base_uri": "https://localhost:8080/",
          "height": 287
        },
        "outputId": "873a6222-ed45-41cf-8a0b-f45c63dafd36"
      },
      "source": [
        "versicolor_sepal_width_on_petal_length = {\n",
        "    \"versicolor_sepal_width\": Iris_versicolor.Sepal_width,\n",
        "    \"versicolor_petal_length\": Iris_versicolor.Petal_length\n",
        "}\n",
        "versicolor_sepal_width_on_petal_length_df = pd.DataFrame(versicolor_sepal_width_on_petal_length)\n",
        "versicolor_sepal_width_on_petal_length_df_corr = versicolor_sepal_width_on_petal_length_df.corr()\n",
        "sns.heatmap(versicolor_sepal_width_on_petal_length_df_corr, annot=True)\n",
        "plt.show()\n",
        "versicolor_sepal_width_on_petal_length_df_corr.versicolor_petal_length[0]"
      ],
      "execution_count": 31,
      "outputs": [
        {
          "output_type": "display_data",
          "data": {
            "image/png": "[encoded data removed]",
            "text/plain": [
              "<Figure size 432x288 with 2 Axes>"
            ]
          },
          "metadata": {
            "needs_background": "light"
          }
        },
        {
          "output_type": "execute_result",
          "data": {
            "text/plain": [
              "0.5605220916929818"
            ]
          },
          "metadata": {},
          "execution_count": 31
        }
      ]
    },
    {
      "cell_type": "code",
      "metadata": {
        "id": "C0aPMLZgcP7S",
        "colab": {
          "base_uri": "https://localhost:8080/",
          "height": 287
        },
        "outputId": "3024837e-b2bc-4f9a-885a-c0615aebdd7f"
      },
      "source": [
        "versicolor_petal_width_on_sepal_length = {\n",
        "    \"versicolor_petal_width\": Iris_versicolor.Petal_width,\n",
        "    \"versicolor_sepal_length\": Iris_versicolor.Sepal_length\n",
        "}\n",
        "versicolor_petal_width_on_sepal_length_df = pd.DataFrame(versicolor_petal_width_on_sepal_length)\n",
        "versicolor_petal_width_on_sepal_length_df_corr = versicolor_petal_width_on_sepal_length_df.corr()\n",
        "sns.heatmap(versicolor_petal_width_on_sepal_length_df_corr, annot=True)\n",
        "plt.show()\n",
        "versicolor_petal_width_on_sepal_length_df_corr.versicolor_sepal_length[0]"
      ],
      "execution_count": 32,
      "outputs": [
        {
          "output_type": "display_data",
          "data": {
            "image/png": "[encoded data removed]",
            "text/plain": [
              "<Figure size 432x288 with 2 Axes>"
            ]
          },
          "metadata": {
            "needs_background": "light"
          }
        },
        {
          "output_type": "execute_result",
          "data": {
            "text/plain": [
              "0.5464610715986299"
            ]
          },
          "metadata": {},
          "execution_count": 32
        }
      ]
    },
    {
      "cell_type": "code",
      "metadata": {
        "id": "_dlWC4mtcP4U",
        "colab": {
          "base_uri": "https://localhost:8080/",
          "height": 287
        },
        "outputId": "04710c37-8b3d-4f4b-e58a-7f2f31e9c86d"
      },
      "source": [
        "versicolor_petal_width_on_petal_length = {\n",
        "    \"versicolor_petal_width\": Iris_versicolor.Petal_width,\n",
        "    \"versicolor_petal_length\": Iris_versicolor.Petal_length\n",
        "}\n",
        "versicolor_petal_width_on_petal_length_df = pd.DataFrame(versicolor_petal_width_on_petal_length)\n",
        "versicolor_petal_width_on_petal_length_df_corr = versicolor_petal_width_on_petal_length_df.corr()\n",
        "sns.heatmap(versicolor_petal_width_on_petal_length_df_corr, annot=True)\n",
        "plt.show()\n",
        "versicolor_petal_width_on_petal_length_df_corr.versicolor_petal_length[0]"
      ],
      "execution_count": 33,
      "outputs": [
        {
          "output_type": "display_data",
          "data": {
            "image/png": "[encoded data removed]",
            "text/plain": [
              "<Figure size 432x288 with 2 Axes>"
            ]
          },
          "metadata": {
            "needs_background": "light"
          }
        },
        {
          "output_type": "execute_result",
          "data": {
            "text/plain": [
              "0.7866680885228168"
            ]
          },
          "metadata": {},
          "execution_count": 33
        }
      ]
    },
    {
      "cell_type": "code",
      "metadata": {
        "id": "vu2eGnbEcPz5",
        "colab": {
          "base_uri": "https://localhost:8080/",
          "height": 287
        },
        "outputId": "beacfaca-1995-4cd5-df9e-9319720b6f5b"
      },
      "source": [
        "virginica_sepal_width_on_petal_length = {\n",
        "    \"virginica_sepal_width\": Iris_virginica.Sepal_width,\n",
        "    \"virginica_petal_length\": Iris_virginica.Petal_length\n",
        "}\n",
        "virginica_sepal_width_on_petal_length_df = pd.DataFrame(virginica_sepal_width_on_petal_length)\n",
        "virginica_sepal_width_on_petal_length_df_corr = virginica_sepal_width_on_petal_length_df.corr()\n",
        "sns.heatmap(virginica_sepal_width_on_petal_length_df_corr, annot=True)\n",
        "plt.show()\n",
        "virginica_sepal_width_on_petal_length_df_corr.virginica_petal_length[0]"
      ],
      "execution_count": 34,
      "outputs": [
        {
          "output_type": "display_data",
          "data": {
            "image/png": "[encoded data removed]",
            "text/plain": [
              "<Figure size 432x288 with 2 Axes>"
            ]
          },
          "metadata": {
            "needs_background": "light"
          }
        },
        {
          "output_type": "execute_result",
          "data": {
            "text/plain": [
              "0.4010445773427851"
            ]
          },
          "metadata": {},
          "execution_count": 34
        }
      ]
    },
    {
      "cell_type": "code",
      "metadata": {
        "id": "-jNX5U4rcPyJ",
        "colab": {
          "base_uri": "https://localhost:8080/",
          "height": 287
        },
        "outputId": "a62eceaf-9726-4898-ff55-90d0c73e88dc"
      },
      "source": [
        "virginica_petal_width_on_sepal_length = {\n",
        "    \"virginica_petal_width\": Iris_virginica.Petal_width,\n",
        "    \"virginica_sepal_length\": Iris_virginica.Sepal_length\n",
        "}\n",
        "virginica_petal_width_on_sepal_length_df = pd.DataFrame(virginica_petal_width_on_sepal_length)\n",
        "virginica_petal_width_on_sepal_length_df_corr = virginica_petal_width_on_sepal_length_df.corr()\n",
        "sns.heatmap(virginica_petal_width_on_sepal_length_df_corr, annot=True)\n",
        "plt.show()\n",
        "virginica_petal_width_on_sepal_length_df_corr.virginica_sepal_length[0]"
      ],
      "execution_count": 35,
      "outputs": [
        {
          "output_type": "display_data",
          "data": {
            "image/png": "[encoded data removed]",
            "text/plain": [
              "<Figure size 432x288 with 2 Axes>"
            ]
          },
          "metadata": {
            "needs_background": "light"
          }
        },
        {
          "output_type": "execute_result",
          "data": {
            "text/plain": [
              "0.28110770915731953"
            ]
          },
          "metadata": {},
          "execution_count": 35
        }
      ]
    },
    {
      "cell_type": "code",
      "metadata": {
        "id": "xmlLbxls-4nT",
        "colab": {
          "base_uri": "https://localhost:8080/",
          "height": 287
        },
        "outputId": "e07538c2-b7a8-4578-ad9a-3cc4bdba1dc5"
      },
      "source": [
        "virginica_petal_width_on_petal_length = {\n",
        "    \"virginica_petal_width\": Iris_virginica.Petal_width,\n",
        "    \"virginica_sepal_length\": Iris_virginica.Petal_length\n",
        "}\n",
        "virginica_petal_width_on_petal_length_df = pd.DataFrame(virginica_petal_width_on_petal_length)\n",
        "virginica_petal_width_on_petal_length_df_corr = virginica_petal_width_on_petal_length_df.corr()\n",
        "sns.heatmap(virginica_petal_width_on_petal_length_df_corr, annot=True)\n",
        "plt.show()\n",
        "virginica_petal_width_on_petal_length_df_corr.virginica_sepal_length[0]"
      ],
      "execution_count": 36,
      "outputs": [
        {
          "output_type": "display_data",
          "data": {
            "image/png": "[encoded data removed]",
            "text/plain": [
              "<Figure size 432x288 with 2 Axes>"
            ]
          },
          "metadata": {
            "needs_background": "light"
          }
        },
        {
          "output_type": "execute_result",
          "data": {
            "text/plain": [
              "0.3221082159003182"
            ]
          },
          "metadata": {},
          "execution_count": 36
        }
      ]
    },
    {
      "cell_type": "code",
      "metadata": {
        "id": "WuPaAq12cQDk"
      },
      "source": [
        "corelation = [\n",
        " [\n",
        "   virginica_sepal_width_on_sepal_length_df_corr.virginica_sepal_length[0],\n",
        "   virginica_petal_width_on_sepal_length_df_corr.virginica_sepal_length[0],\n",
        "   virginica_sepal_width_on_petal_length_df_corr.virginica_petal_length[0],\n",
        "   virginica_petal_width_on_petal_length_df_corr.virginica_sepal_length[0],\n",
        "\n",
        " ],\n",
        "[\n",
        "  versicolor_sepal_width_on_sepal_length_df_corr.versicolor_sepal_length[0],\n",
        "  versicolor_petal_width_on_sepal_length_df_corr.versicolor_sepal_length[0],\n",
        "  versicolor_sepal_width_on_petal_length_df_corr.versicolor_petal_length[0],\n",
        "  versicolor_petal_width_on_petal_length_df_corr.versicolor_petal_length[0],\n",
        " ],\n",
        " [\n",
        "  setosa_sepal_width_on_sepal_length_df_corr.setosa_sepal_length[0],\n",
        "  setosa_petal_width_on_sepal_length_df_corr.setosa_sepal_length[0],\n",
        "  setosa_sepal_width_on_petal_length_df_corr.setosa_petal_length[0],\n",
        "  setosa_petal_width_on_petal_length_df_corr.setosa_petal_length[0]\n",
        " ]\n",
        "]"
      ],
      "execution_count": 37,
      "outputs": []
    },
    {
      "cell_type": "code",
      "metadata": {
        "id": "hHwzxyfpcPk1",
        "colab": {
          "base_uri": "https://localhost:8080/",
          "height": 275
        },
        "outputId": "e3394501-c90a-48b5-ed57-aedce1bb22c4"
      },
      "source": [
        "\n",
        "plt.matshow(setosa_sepal_width_on_sepal_length_df_corr)\n",
        "plt.show()"
      ],
      "execution_count": 38,
      "outputs": [
        {
          "output_type": "display_data",
          "data": {
            "image/png": "[encoded data removed]",
            "text/plain": [
              "<Figure size 288x288 with 1 Axes>"
            ]
          },
          "metadata": {
            "needs_background": "light"
          }
        }
      ]
    },
    {
      "cell_type": "code",
      "metadata": {
        "colab": {
          "base_uri": "https://localhost:8080/",
          "height": 173
        },
        "id": "GpIdG4YKvFR7",
        "outputId": "5b4ffa20-8d01-4c81-bbe8-ff2e50e9c7e2"
      },
      "source": [
        "# hue=\"species\",\n",
        "import pandas as pd\n",
        "import numpy as np\n",
        "\n",
        "corelation_dict_pandas = {\n",
        "    \"Type\": [\n",
        "                \"Sepal Width on Sepal Length\", \n",
        "                \"Petal Width on Sepal Length\", \n",
        "                \"Sepal Width on Petal Length\", \n",
        "                \"Petal Width on Petal Length\"\n",
        "            ],\n",
        "    \"setosa_relations\": corelation[2],\n",
        "    \"versicolor_relations\": corelation[1],\n",
        "    \"virginica_relations\": corelation[0]\n",
        "}\n",
        "\n",
        "df = pd.DataFrame(corelation_dict_pandas)\n",
        "\n",
        "df.style.background_gradient(cmap='coolwarm')"
      ],
      "execution_count": 39,
      "outputs": [
        {
          "output_type": "execute_result",
          "data": {
            "text/html": [
              "<style  type=\"text/css\" >\n",
              "#T_e13f4a12_3a2d_11ec_937f_0242ac1c0002row0_col1,#T_e13f4a12_3a2d_11ec_937f_0242ac1c0002row0_col3,#T_e13f4a12_3a2d_11ec_937f_0242ac1c0002row3_col2{\n",
              "            background-color:  #b40426;\n",
              "            color:  #f1f1f1;\n",
              "        }#T_e13f4a12_3a2d_11ec_937f_0242ac1c0002row0_col2,#T_e13f4a12_3a2d_11ec_937f_0242ac1c0002row1_col3,#T_e13f4a12_3a2d_11ec_937f_0242ac1c0002row2_col1{\n",
              "            background-color:  #3b4cc0;\n",
              "            color:  #f1f1f1;\n",
              "        }#T_e13f4a12_3a2d_11ec_937f_0242ac1c0002row1_col1{\n",
              "            background-color:  #7597f6;\n",
              "            color:  #000000;\n",
              "        }#T_e13f4a12_3a2d_11ec_937f_0242ac1c0002row1_col2{\n",
              "            background-color:  #536edd;\n",
              "            color:  #000000;\n",
              "        }#T_e13f4a12_3a2d_11ec_937f_0242ac1c0002row2_col2{\n",
              "            background-color:  #6384eb;\n",
              "            color:  #000000;\n",
              "        }#T_e13f4a12_3a2d_11ec_937f_0242ac1c0002row2_col3{\n",
              "            background-color:  #f7b396;\n",
              "            color:  #000000;\n",
              "        }#T_e13f4a12_3a2d_11ec_937f_0242ac1c0002row3_col1{\n",
              "            background-color:  #82a6fb;\n",
              "            color:  #000000;\n",
              "        }#T_e13f4a12_3a2d_11ec_937f_0242ac1c0002row3_col3{\n",
              "            background-color:  #86a9fc;\n",
              "            color:  #000000;\n",
              "        }</style><table id=\"T_e13f4a12_3a2d_11ec_937f_0242ac1c0002\" class=\"dataframe\"><thead>    <tr>        <th class=\"blank level0\" ></th>        <th class=\"col_heading level0 col0\" >Type</th>        <th class=\"col_heading level0 col1\" >setosa_relations</th>        <th class=\"col_heading level0 col2\" >versicolor_relations</th>        <th class=\"col_heading level0 col3\" >virginica_relations</th>    </tr></thead><tbody>\n",
              "                <tr>\n",
              "                        <th id=\"T_e13f4a12_3a2d_11ec_937f_0242ac1c0002level0_row0\" class=\"row_heading level0 row0\" >0</th>\n",
              "                        <td id=\"T_e13f4a12_3a2d_11ec_937f_0242ac1c0002row0_col0\" class=\"data row0 col0\" >Sepal Width on Sepal Length</td>\n",
              "                        <td id=\"T_e13f4a12_3a2d_11ec_937f_0242ac1c0002row0_col1\" class=\"data row0 col1\" >0.746498</td>\n",
              "                        <td id=\"T_e13f4a12_3a2d_11ec_937f_0242ac1c0002row0_col2\" class=\"data row0 col2\" >0.525911</td>\n",
              "                        <td id=\"T_e13f4a12_3a2d_11ec_937f_0242ac1c0002row0_col3\" class=\"data row0 col3\" >0.457228</td>\n",
              "            </tr>\n",
              "            <tr>\n",
              "                        <th id=\"T_e13f4a12_3a2d_11ec_937f_0242ac1c0002level0_row1\" class=\"row_heading level0 row1\" >1</th>\n",
              "                        <td id=\"T_e13f4a12_3a2d_11ec_937f_0242ac1c0002row1_col0\" class=\"data row1 col0\" >Petal Width on Sepal Length</td>\n",
              "                        <td id=\"T_e13f4a12_3a2d_11ec_937f_0242ac1c0002row1_col1\" class=\"data row1 col1\" >0.282074</td>\n",
              "                        <td id=\"T_e13f4a12_3a2d_11ec_937f_0242ac1c0002row1_col2\" class=\"data row1 col2\" >0.546461</td>\n",
              "                        <td id=\"T_e13f4a12_3a2d_11ec_937f_0242ac1c0002row1_col3\" class=\"data row1 col3\" >0.281108</td>\n",
              "            </tr>\n",
              "            <tr>\n",
              "                        <th id=\"T_e13f4a12_3a2d_11ec_937f_0242ac1c0002level0_row2\" class=\"row_heading level0 row2\" >2</th>\n",
              "                        <td id=\"T_e13f4a12_3a2d_11ec_937f_0242ac1c0002row2_col0\" class=\"data row2 col0\" >Sepal Width on Petal Length</td>\n",
              "                        <td id=\"T_e13f4a12_3a2d_11ec_937f_0242ac1c0002row2_col1\" class=\"data row2 col1\" >0.178687</td>\n",
              "                        <td id=\"T_e13f4a12_3a2d_11ec_937f_0242ac1c0002row2_col2\" class=\"data row2 col2\" >0.560522</td>\n",
              "                        <td id=\"T_e13f4a12_3a2d_11ec_937f_0242ac1c0002row2_col3\" class=\"data row2 col3\" >0.401045</td>\n",
              "            </tr>\n",
              "            <tr>\n",
              "                        <th id=\"T_e13f4a12_3a2d_11ec_937f_0242ac1c0002level0_row3\" class=\"row_heading level0 row3\" >3</th>\n",
              "                        <td id=\"T_e13f4a12_3a2d_11ec_937f_0242ac1c0002row3_col0\" class=\"data row3 col0\" >Petal Width on Petal Length</td>\n",
              "                        <td id=\"T_e13f4a12_3a2d_11ec_937f_0242ac1c0002row3_col1\" class=\"data row3 col1\" >0.304120</td>\n",
              "                        <td id=\"T_e13f4a12_3a2d_11ec_937f_0242ac1c0002row3_col2\" class=\"data row3 col2\" >0.786668</td>\n",
              "                        <td id=\"T_e13f4a12_3a2d_11ec_937f_0242ac1c0002row3_col3\" class=\"data row3 col3\" >0.322108</td>\n",
              "            </tr>\n",
              "    </tbody></table>"
            ],
            "text/plain": [
              "<pandas.io.formats.style.Styler at 0x7f971651f4d0>"
            ]
          },
          "metadata": {},
          "execution_count": 39
        }
      ]
    },
    {
      "cell_type": "code",
      "metadata": {
        "colab": {
          "base_uri": "https://localhost:8080/",
          "height": 352
        },
        "id": "4tUl8gK2SFJJ",
        "outputId": "a4f42dbf-0a31-47fe-ff0d-adfcf2c0a598"
      },
      "source": [
        "df_seaborn = pd.DataFrame(    {\"setosa_relations\": corelation[2],\n",
        "    \"versicolor_relations\": corelation[1],\n",
        "    \"virginica_relations\": corelation[0]\n",
        "})\n",
        "sns.heatmap(df_seaborn, annot=True)\n",
        "plt.show()"
      ],
      "execution_count": 40,
      "outputs": [
        {
          "output_type": "display_data",
          "data": {
            "image/png": "[encoded data removed]",
            "text/plain": [
              "<Figure size 432x288 with 2 Axes>"
            ]
          },
          "metadata": {
            "needs_background": "light"
          }
        }
      ]
    },
    {
      "cell_type": "code",
      "metadata": {
        "id": "yt2HyJoNvaYF",
        "colab": {
          "base_uri": "https://localhost:8080/"
        },
        "outputId": "a0ad4056-ac3e-44cc-a32f-26e3e408dcae"
      },
      "source": [
        "print(content.mean())\n",
        "print(content.mode(numeric_only=True))\n",
        "print(content.median(numeric_only=True))"
      ],
      "execution_count": 41,
      "outputs": [
        {
          "output_type": "stream",
          "name": "stdout",
          "text": [
            "Sepal_length    5.848322\n",
            "Sepal_width     3.051007\n",
            "Petal_length    3.774497\n",
            "Petal_width     1.205369\n",
            "dtype: float64\n",
            "   Sepal_length  Sepal_width  Petal_length  Petal_width\n",
            "0           5.0          3.0           1.5          0.2\n",
            "Sepal_length    5.8\n",
            "Sepal_width     3.0\n",
            "Petal_length    4.4\n",
            "Petal_width     1.3\n",
            "dtype: float64\n"
          ]
        }
      ]
    },
    {
      "cell_type": "code",
      "metadata": {
        "id": "1cpX35P0ZQmH",
        "colab": {
          "base_uri": "https://localhost:8080/"
        },
        "outputId": "085c6791-70fc-4d24-d77e-1d6f5bb7136f"
      },
      "source": [
        "Iris_setosa.mean()\n"
      ],
      "execution_count": 42,
      "outputs": [
        {
          "output_type": "execute_result",
          "data": {
            "text/plain": [
              "Sepal_length    5.004082\n",
              "Sepal_width     3.416327\n",
              "Petal_length    1.465306\n",
              "Petal_width     0.244898\n",
              "dtype: float64"
            ]
          },
          "metadata": {},
          "execution_count": 42
        }
      ]
    },
    {
      "cell_type": "code",
      "metadata": {
        "id": "Pvg7MdGEZQkB",
        "colab": {
          "base_uri": "https://localhost:8080/",
          "height": 80
        },
        "outputId": "36b42989-0688-47fa-f230-dbb51b078c6b"
      },
      "source": [
        "Iris_setosa.mode()\n"
      ],
      "execution_count": 43,
      "outputs": [
        {
          "output_type": "execute_result",
          "data": {
            "text/html": [
              "<div>\n",
              "<style scoped>\n",
              "    .dataframe tbody tr th:only-of-type {\n",
              "        vertical-align: middle;\n",
              "    }\n",
              "\n",
              "    .dataframe tbody tr th {\n",
              "        vertical-align: top;\n",
              "    }\n",
              "\n",
              "    .dataframe thead th {\n",
              "        text-align: right;\n",
              "    }\n",
              "</style>\n",
              "<table border=\"1\" class=\"dataframe\">\n",
              "  <thead>\n",
              "    <tr style=\"text-align: right;\">\n",
              "      <th></th>\n",
              "      <th>Sepal_length</th>\n",
              "      <th>Sepal_width</th>\n",
              "      <th>Petal_length</th>\n",
              "      <th>Petal_width</th>\n",
              "      <th>Type</th>\n",
              "    </tr>\n",
              "  </thead>\n",
              "  <tbody>\n",
              "    <tr>\n",
              "      <th>0</th>\n",
              "      <td>5.0</td>\n",
              "      <td>3.4</td>\n",
              "      <td>1.5</td>\n",
              "      <td>0.2</td>\n",
              "      <td>Iris-setosa</td>\n",
              "    </tr>\n",
              "  </tbody>\n",
              "</table>\n",
              "</div>"
            ],
            "text/plain": [
              "   Sepal_length  Sepal_width  Petal_length  Petal_width         Type\n",
              "0           5.0          3.4           1.5          0.2  Iris-setosa"
            ]
          },
          "metadata": {},
          "execution_count": 43
        }
      ]
    },
    {
      "cell_type": "code",
      "metadata": {
        "id": "tAiuwjNiZQfw",
        "colab": {
          "base_uri": "https://localhost:8080/"
        },
        "outputId": "85f71626-81d4-4882-c3a7-ce2493b6b267"
      },
      "source": [
        "Iris_setosa.median()"
      ],
      "execution_count": 44,
      "outputs": [
        {
          "output_type": "execute_result",
          "data": {
            "text/plain": [
              "Sepal_length    5.0\n",
              "Sepal_width     3.4\n",
              "Petal_length    1.5\n",
              "Petal_width     0.2\n",
              "dtype: float64"
            ]
          },
          "metadata": {},
          "execution_count": 44
        }
      ]
    },
    {
      "cell_type": "code",
      "metadata": {
        "id": "YMuyDKdDZQde",
        "colab": {
          "base_uri": "https://localhost:8080/"
        },
        "outputId": "71abeca3-f697-46d5-a3c6-48bf48703fed"
      },
      "source": [
        "Iris_versicolor.mean()"
      ],
      "execution_count": 45,
      "outputs": [
        {
          "output_type": "execute_result",
          "data": {
            "text/plain": [
              "Sepal_length    5.936\n",
              "Sepal_width     2.770\n",
              "Petal_length    4.260\n",
              "Petal_width     1.326\n",
              "dtype: float64"
            ]
          },
          "metadata": {},
          "execution_count": 45
        }
      ]
    },
    {
      "cell_type": "code",
      "metadata": {
        "id": "47iMupDIZQZM",
        "colab": {
          "base_uri": "https://localhost:8080/",
          "height": 142
        },
        "outputId": "99d1ace8-ad9c-4eac-ce40-436651815323"
      },
      "source": [
        "Iris_versicolor.mode()"
      ],
      "execution_count": 46,
      "outputs": [
        {
          "output_type": "execute_result",
          "data": {
            "text/html": [
              "<div>\n",
              "<style scoped>\n",
              "    .dataframe tbody tr th:only-of-type {\n",
              "        vertical-align: middle;\n",
              "    }\n",
              "\n",
              "    .dataframe tbody tr th {\n",
              "        vertical-align: top;\n",
              "    }\n",
              "\n",
              "    .dataframe thead th {\n",
              "        text-align: right;\n",
              "    }\n",
              "</style>\n",
              "<table border=\"1\" class=\"dataframe\">\n",
              "  <thead>\n",
              "    <tr style=\"text-align: right;\">\n",
              "      <th></th>\n",
              "      <th>Sepal_length</th>\n",
              "      <th>Sepal_width</th>\n",
              "      <th>Petal_length</th>\n",
              "      <th>Petal_width</th>\n",
              "      <th>Type</th>\n",
              "    </tr>\n",
              "  </thead>\n",
              "  <tbody>\n",
              "    <tr>\n",
              "      <th>0</th>\n",
              "      <td>5.5</td>\n",
              "      <td>3.0</td>\n",
              "      <td>4.5</td>\n",
              "      <td>1.3</td>\n",
              "      <td>Iris-versicolor</td>\n",
              "    </tr>\n",
              "    <tr>\n",
              "      <th>1</th>\n",
              "      <td>5.6</td>\n",
              "      <td>NaN</td>\n",
              "      <td>NaN</td>\n",
              "      <td>NaN</td>\n",
              "      <td>NaN</td>\n",
              "    </tr>\n",
              "    <tr>\n",
              "      <th>2</th>\n",
              "      <td>5.7</td>\n",
              "      <td>NaN</td>\n",
              "      <td>NaN</td>\n",
              "      <td>NaN</td>\n",
              "      <td>NaN</td>\n",
              "    </tr>\n",
              "  </tbody>\n",
              "</table>\n",
              "</div>"
            ],
            "text/plain": [
              "   Sepal_length  Sepal_width  Petal_length  Petal_width             Type\n",
              "0           5.5          3.0           4.5          1.3  Iris-versicolor\n",
              "1           5.6          NaN           NaN          NaN              NaN\n",
              "2           5.7          NaN           NaN          NaN              NaN"
            ]
          },
          "metadata": {},
          "execution_count": 46
        }
      ]
    },
    {
      "cell_type": "code",
      "metadata": {
        "id": "UXIBzM0HZQXH",
        "colab": {
          "base_uri": "https://localhost:8080/"
        },
        "outputId": "485f318f-4dc8-45b3-a949-f53b2a62b4f0"
      },
      "source": [
        "Iris_versicolor.median()"
      ],
      "execution_count": 47,
      "outputs": [
        {
          "output_type": "execute_result",
          "data": {
            "text/plain": [
              "Sepal_length    5.90\n",
              "Sepal_width     2.80\n",
              "Petal_length    4.35\n",
              "Petal_width     1.30\n",
              "dtype: float64"
            ]
          },
          "metadata": {},
          "execution_count": 47
        }
      ]
    },
    {
      "cell_type": "code",
      "metadata": {
        "id": "eGFU3fhXZQTD",
        "colab": {
          "base_uri": "https://localhost:8080/"
        },
        "outputId": "1cf71b1b-ce73-4c39-81c6-fe1e3ea45885"
      },
      "source": [
        "Iris_virginica.mean()"
      ],
      "execution_count": 48,
      "outputs": [
        {
          "output_type": "execute_result",
          "data": {
            "text/plain": [
              "Sepal_length    6.588\n",
              "Sepal_width     2.974\n",
              "Petal_length    5.552\n",
              "Petal_width     2.026\n",
              "dtype: float64"
            ]
          },
          "metadata": {},
          "execution_count": 48
        }
      ]
    },
    {
      "cell_type": "code",
      "metadata": {
        "id": "5n8nTVo4ZQQ-",
        "colab": {
          "base_uri": "https://localhost:8080/",
          "height": 80
        },
        "outputId": "ec7473d7-fd2a-4eba-ffc0-b61b1be65487"
      },
      "source": [
        "Iris_virginica.mode()"
      ],
      "execution_count": 49,
      "outputs": [
        {
          "output_type": "execute_result",
          "data": {
            "text/html": [
              "<div>\n",
              "<style scoped>\n",
              "    .dataframe tbody tr th:only-of-type {\n",
              "        vertical-align: middle;\n",
              "    }\n",
              "\n",
              "    .dataframe tbody tr th {\n",
              "        vertical-align: top;\n",
              "    }\n",
              "\n",
              "    .dataframe thead th {\n",
              "        text-align: right;\n",
              "    }\n",
              "</style>\n",
              "<table border=\"1\" class=\"dataframe\">\n",
              "  <thead>\n",
              "    <tr style=\"text-align: right;\">\n",
              "      <th></th>\n",
              "      <th>Sepal_length</th>\n",
              "      <th>Sepal_width</th>\n",
              "      <th>Petal_length</th>\n",
              "      <th>Petal_width</th>\n",
              "      <th>Type</th>\n",
              "    </tr>\n",
              "  </thead>\n",
              "  <tbody>\n",
              "    <tr>\n",
              "      <th>0</th>\n",
              "      <td>6.3</td>\n",
              "      <td>3.0</td>\n",
              "      <td>5.1</td>\n",
              "      <td>1.8</td>\n",
              "      <td>Iris-virginica</td>\n",
              "    </tr>\n",
              "  </tbody>\n",
              "</table>\n",
              "</div>"
            ],
            "text/plain": [
              "   Sepal_length  Sepal_width  Petal_length  Petal_width            Type\n",
              "0           6.3          3.0           5.1          1.8  Iris-virginica"
            ]
          },
          "metadata": {},
          "execution_count": 49
        }
      ]
    },
    {
      "cell_type": "code",
      "metadata": {
        "colab": {
          "base_uri": "https://localhost:8080/"
        },
        "id": "OXnHmerpGkpo",
        "outputId": "17f6c33a-be2b-4a98-d487-8f72c9b048a5"
      },
      "source": [
        "Iris_virginica.median()"
      ],
      "execution_count": 50,
      "outputs": [
        {
          "output_type": "execute_result",
          "data": {
            "text/plain": [
              "Sepal_length    6.50\n",
              "Sepal_width     3.00\n",
              "Petal_length    5.55\n",
              "Petal_width     2.00\n",
              "dtype: float64"
            ]
          },
          "metadata": {},
          "execution_count": 50
        }
      ]
    },
    {
      "cell_type": "code",
      "metadata": {
        "colab": {
          "base_uri": "https://localhost:8080/",
          "height": 190
        },
        "id": "bGajgagaHpAl",
        "outputId": "30d5a40d-cd10-45bd-d438-0df5f20ac8dd"
      },
      "source": [
        "best_ways_to_rep = {\n",
        "    \"Representation\": [\n",
        "                        \"Sepal_length\", \n",
        "                        \"Sepal_width\", \n",
        "                        \"Petal_length\", \n",
        "                        \"Petal_width\"\n",
        "                    ],\n",
        "    \"Iris_Setaosa\": [\n",
        "                        Iris_setosa.median().Sepal_length, \n",
        "                        Iris_setosa.median().Sepal_width, \n",
        "                        Iris_setosa.median().Petal_length, \n",
        "                        Iris_setosa.median().Petal_width\n",
        "                    ],\n",
        "    \"Iris_Versicolor\": [\n",
        "                        Iris_versicolor.median().Sepal_length, \n",
        "                        Iris_versicolor.median().Sepal_width, \n",
        "                        Iris_versicolor.median().Petal_length, \n",
        "                        Iris_versicolor.median().Petal_width\n",
        "                    ],\n",
        "    \"Iris_Virginica\": [\n",
        "                        Iris_virginica.median().Sepal_length, \n",
        "                        Iris_virginica.median().Sepal_width, \n",
        "                        Iris_virginica.median().Petal_length, \n",
        "                        Iris_virginica.median().Petal_width\n",
        "                    ],\n",
        "}\n",
        "best_ways_to_rep_df = pd.DataFrame(best_ways_to_rep)\n",
        "best_ways_to_rep_df.name = \"Median Table\"\n",
        "print(f\"                         {best_ways_to_rep_df.name}\")\n",
        "best_ways_to_rep_df.style.background_gradient(cmap='coolwarm')\n",
        "\n"
      ],
      "execution_count": 69,
      "outputs": [
        {
          "output_type": "stream",
          "name": "stdout",
          "text": [
            "                         Median Table\n"
          ]
        },
        {
          "output_type": "execute_result",
          "data": {
            "text/html": [
              "<style  type=\"text/css\" >\n",
              "#T_faf2c054_3a2f_11ec_937f_0242ac1c0002row0_col1,#T_faf2c054_3a2f_11ec_937f_0242ac1c0002row0_col2,#T_faf2c054_3a2f_11ec_937f_0242ac1c0002row0_col3{\n",
              "            background-color:  #b40426;\n",
              "            color:  #f1f1f1;\n",
              "        }#T_faf2c054_3a2f_11ec_937f_0242ac1c0002row1_col1{\n",
              "            background-color:  #f7b89c;\n",
              "            color:  #000000;\n",
              "        }#T_faf2c054_3a2f_11ec_937f_0242ac1c0002row1_col2{\n",
              "            background-color:  #a7c5fe;\n",
              "            color:  #000000;\n",
              "        }#T_faf2c054_3a2f_11ec_937f_0242ac1c0002row1_col3{\n",
              "            background-color:  #82a6fb;\n",
              "            color:  #000000;\n",
              "        }#T_faf2c054_3a2f_11ec_937f_0242ac1c0002row2_col1{\n",
              "            background-color:  #94b6ff;\n",
              "            color:  #000000;\n",
              "        }#T_faf2c054_3a2f_11ec_937f_0242ac1c0002row2_col2{\n",
              "            background-color:  #f7b99e;\n",
              "            color:  #000000;\n",
              "        }#T_faf2c054_3a2f_11ec_937f_0242ac1c0002row2_col3{\n",
              "            background-color:  #f08a6c;\n",
              "            color:  #000000;\n",
              "        }#T_faf2c054_3a2f_11ec_937f_0242ac1c0002row3_col1,#T_faf2c054_3a2f_11ec_937f_0242ac1c0002row3_col2,#T_faf2c054_3a2f_11ec_937f_0242ac1c0002row3_col3{\n",
              "            background-color:  #3b4cc0;\n",
              "            color:  #f1f1f1;\n",
              "        }</style><table id=\"T_faf2c054_3a2f_11ec_937f_0242ac1c0002\" class=\"dataframe\"><thead>    <tr>        <th class=\"blank level0\" ></th>        <th class=\"col_heading level0 col0\" >Representation</th>        <th class=\"col_heading level0 col1\" >Iris_Setaosa</th>        <th class=\"col_heading level0 col2\" >Iris_Versicolor</th>        <th class=\"col_heading level0 col3\" >Iris_Virginica</th>    </tr></thead><tbody>\n",
              "                <tr>\n",
              "                        <th id=\"T_faf2c054_3a2f_11ec_937f_0242ac1c0002level0_row0\" class=\"row_heading level0 row0\" >0</th>\n",
              "                        <td id=\"T_faf2c054_3a2f_11ec_937f_0242ac1c0002row0_col0\" class=\"data row0 col0\" >Sepal_length</td>\n",
              "                        <td id=\"T_faf2c054_3a2f_11ec_937f_0242ac1c0002row0_col1\" class=\"data row0 col1\" >5.000000</td>\n",
              "                        <td id=\"T_faf2c054_3a2f_11ec_937f_0242ac1c0002row0_col2\" class=\"data row0 col2\" >5.900000</td>\n",
              "                        <td id=\"T_faf2c054_3a2f_11ec_937f_0242ac1c0002row0_col3\" class=\"data row0 col3\" >6.500000</td>\n",
              "            </tr>\n",
              "            <tr>\n",
              "                        <th id=\"T_faf2c054_3a2f_11ec_937f_0242ac1c0002level0_row1\" class=\"row_heading level0 row1\" >1</th>\n",
              "                        <td id=\"T_faf2c054_3a2f_11ec_937f_0242ac1c0002row1_col0\" class=\"data row1 col0\" >Sepal_width</td>\n",
              "                        <td id=\"T_faf2c054_3a2f_11ec_937f_0242ac1c0002row1_col1\" class=\"data row1 col1\" >3.400000</td>\n",
              "                        <td id=\"T_faf2c054_3a2f_11ec_937f_0242ac1c0002row1_col2\" class=\"data row1 col2\" >2.800000</td>\n",
              "                        <td id=\"T_faf2c054_3a2f_11ec_937f_0242ac1c0002row1_col3\" class=\"data row1 col3\" >3.000000</td>\n",
              "            </tr>\n",
              "            <tr>\n",
              "                        <th id=\"T_faf2c054_3a2f_11ec_937f_0242ac1c0002level0_row2\" class=\"row_heading level0 row2\" >2</th>\n",
              "                        <td id=\"T_faf2c054_3a2f_11ec_937f_0242ac1c0002row2_col0\" class=\"data row2 col0\" >Petal_length</td>\n",
              "                        <td id=\"T_faf2c054_3a2f_11ec_937f_0242ac1c0002row2_col1\" class=\"data row2 col1\" >1.500000</td>\n",
              "                        <td id=\"T_faf2c054_3a2f_11ec_937f_0242ac1c0002row2_col2\" class=\"data row2 col2\" >4.350000</td>\n",
              "                        <td id=\"T_faf2c054_3a2f_11ec_937f_0242ac1c0002row2_col3\" class=\"data row2 col3\" >5.550000</td>\n",
              "            </tr>\n",
              "            <tr>\n",
              "                        <th id=\"T_faf2c054_3a2f_11ec_937f_0242ac1c0002level0_row3\" class=\"row_heading level0 row3\" >3</th>\n",
              "                        <td id=\"T_faf2c054_3a2f_11ec_937f_0242ac1c0002row3_col0\" class=\"data row3 col0\" >Petal_width</td>\n",
              "                        <td id=\"T_faf2c054_3a2f_11ec_937f_0242ac1c0002row3_col1\" class=\"data row3 col1\" >0.200000</td>\n",
              "                        <td id=\"T_faf2c054_3a2f_11ec_937f_0242ac1c0002row3_col2\" class=\"data row3 col2\" >1.300000</td>\n",
              "                        <td id=\"T_faf2c054_3a2f_11ec_937f_0242ac1c0002row3_col3\" class=\"data row3 col3\" >2.000000</td>\n",
              "            </tr>\n",
              "    </tbody></table>"
            ],
            "text/plain": [
              "<pandas.io.formats.style.Styler at 0x7f9716089dd0>"
            ]
          },
          "metadata": {},
          "execution_count": 69
        }
      ]
    },
    {
      "cell_type": "code",
      "metadata": {
        "id": "VLmGTHe1Ho8p",
        "colab": {
          "base_uri": "https://localhost:8080/",
          "height": 190
        },
        "outputId": "0ef29418-befb-4e2f-f523-23072cc700bb"
      },
      "source": [
        "best_ways_to_rep = {\n",
        "    \"Representation\": [\n",
        "                        \"Sepal_length\", \n",
        "                        \"Sepal_width\", \n",
        "                        \"Petal_length\", \n",
        "                        \"Petal_width\"\n",
        "                    ],\n",
        "    \"Iris_Setaosa\": [\n",
        "                        Iris_setosa.mode().Sepal_length[0], \n",
        "                        Iris_setosa.mode().Sepal_width[0], \n",
        "                        Iris_setosa.mode().Petal_length[0], \n",
        "                        Iris_setosa.mode().Petal_width[0]\n",
        "                    ],\n",
        "    \"Iris_Versicolor\": [\n",
        "                        Iris_versicolor.mode().Sepal_length[0], \n",
        "                        Iris_versicolor.mode().Sepal_width[0], \n",
        "                        Iris_versicolor.mode().Petal_length[0], \n",
        "                        Iris_versicolor.mode().Petal_width[0]\n",
        "                    ],\n",
        "    \"Iris_Virginica\": [\n",
        "                        Iris_virginica.mode().Sepal_length[0], \n",
        "                        Iris_virginica.mode().Sepal_width[0], \n",
        "                        Iris_virginica.mode().Petal_length[0], \n",
        "                        Iris_virginica.mode().Petal_width[0]\n",
        "                    ],\n",
        "}\n",
        "best_ways_to_rep_df = pd.DataFrame(best_ways_to_rep)\n",
        "best_ways_to_rep_df.name = \"Mode Table\"\n",
        "print(f\"                         {best_ways_to_rep_df.name}\")\n",
        "best_ways_to_rep_df.style.background_gradient(cmap='coolwarm')"
      ],
      "execution_count": 70,
      "outputs": [
        {
          "output_type": "stream",
          "name": "stdout",
          "text": [
            "                         Mode Table\n"
          ]
        },
        {
          "output_type": "execute_result",
          "data": {
            "text/html": [
              "<style  type=\"text/css\" >\n",
              "#T_0b2205d4_3a30_11ec_937f_0242ac1c0002row0_col1,#T_0b2205d4_3a30_11ec_937f_0242ac1c0002row0_col2,#T_0b2205d4_3a30_11ec_937f_0242ac1c0002row0_col3{\n",
              "            background-color:  #b40426;\n",
              "            color:  #f1f1f1;\n",
              "        }#T_0b2205d4_3a30_11ec_937f_0242ac1c0002row1_col1{\n",
              "            background-color:  #f7b89c;\n",
              "            color:  #000000;\n",
              "        }#T_0b2205d4_3a30_11ec_937f_0242ac1c0002row1_col2{\n",
              "            background-color:  #c1d4f4;\n",
              "            color:  #000000;\n",
              "        }#T_0b2205d4_3a30_11ec_937f_0242ac1c0002row1_col3{\n",
              "            background-color:  #93b5fe;\n",
              "            color:  #000000;\n",
              "        }#T_0b2205d4_3a30_11ec_937f_0242ac1c0002row2_col1{\n",
              "            background-color:  #94b6ff;\n",
              "            color:  #000000;\n",
              "        }#T_0b2205d4_3a30_11ec_937f_0242ac1c0002row2_col2{\n",
              "            background-color:  #f39475;\n",
              "            color:  #000000;\n",
              "        }#T_0b2205d4_3a30_11ec_937f_0242ac1c0002row2_col3{\n",
              "            background-color:  #f5a081;\n",
              "            color:  #000000;\n",
              "        }#T_0b2205d4_3a30_11ec_937f_0242ac1c0002row3_col1,#T_0b2205d4_3a30_11ec_937f_0242ac1c0002row3_col2,#T_0b2205d4_3a30_11ec_937f_0242ac1c0002row3_col3{\n",
              "            background-color:  #3b4cc0;\n",
              "            color:  #f1f1f1;\n",
              "        }</style><table id=\"T_0b2205d4_3a30_11ec_937f_0242ac1c0002\" class=\"dataframe\"><thead>    <tr>        <th class=\"blank level0\" ></th>        <th class=\"col_heading level0 col0\" >Representation</th>        <th class=\"col_heading level0 col1\" >Iris_Setaosa</th>        <th class=\"col_heading level0 col2\" >Iris_Versicolor</th>        <th class=\"col_heading level0 col3\" >Iris_Virginica</th>    </tr></thead><tbody>\n",
              "                <tr>\n",
              "                        <th id=\"T_0b2205d4_3a30_11ec_937f_0242ac1c0002level0_row0\" class=\"row_heading level0 row0\" >0</th>\n",
              "                        <td id=\"T_0b2205d4_3a30_11ec_937f_0242ac1c0002row0_col0\" class=\"data row0 col0\" >Sepal_length</td>\n",
              "                        <td id=\"T_0b2205d4_3a30_11ec_937f_0242ac1c0002row0_col1\" class=\"data row0 col1\" >5.000000</td>\n",
              "                        <td id=\"T_0b2205d4_3a30_11ec_937f_0242ac1c0002row0_col2\" class=\"data row0 col2\" >5.500000</td>\n",
              "                        <td id=\"T_0b2205d4_3a30_11ec_937f_0242ac1c0002row0_col3\" class=\"data row0 col3\" >6.300000</td>\n",
              "            </tr>\n",
              "            <tr>\n",
              "                        <th id=\"T_0b2205d4_3a30_11ec_937f_0242ac1c0002level0_row1\" class=\"row_heading level0 row1\" >1</th>\n",
              "                        <td id=\"T_0b2205d4_3a30_11ec_937f_0242ac1c0002row1_col0\" class=\"data row1 col0\" >Sepal_width</td>\n",
              "                        <td id=\"T_0b2205d4_3a30_11ec_937f_0242ac1c0002row1_col1\" class=\"data row1 col1\" >3.400000</td>\n",
              "                        <td id=\"T_0b2205d4_3a30_11ec_937f_0242ac1c0002row1_col2\" class=\"data row1 col2\" >3.000000</td>\n",
              "                        <td id=\"T_0b2205d4_3a30_11ec_937f_0242ac1c0002row1_col3\" class=\"data row1 col3\" >3.000000</td>\n",
              "            </tr>\n",
              "            <tr>\n",
              "                        <th id=\"T_0b2205d4_3a30_11ec_937f_0242ac1c0002level0_row2\" class=\"row_heading level0 row2\" >2</th>\n",
              "                        <td id=\"T_0b2205d4_3a30_11ec_937f_0242ac1c0002row2_col0\" class=\"data row2 col0\" >Petal_length</td>\n",
              "                        <td id=\"T_0b2205d4_3a30_11ec_937f_0242ac1c0002row2_col1\" class=\"data row2 col1\" >1.500000</td>\n",
              "                        <td id=\"T_0b2205d4_3a30_11ec_937f_0242ac1c0002row2_col2\" class=\"data row2 col2\" >4.500000</td>\n",
              "                        <td id=\"T_0b2205d4_3a30_11ec_937f_0242ac1c0002row2_col3\" class=\"data row2 col3\" >5.100000</td>\n",
              "            </tr>\n",
              "            <tr>\n",
              "                        <th id=\"T_0b2205d4_3a30_11ec_937f_0242ac1c0002level0_row3\" class=\"row_heading level0 row3\" >3</th>\n",
              "                        <td id=\"T_0b2205d4_3a30_11ec_937f_0242ac1c0002row3_col0\" class=\"data row3 col0\" >Petal_width</td>\n",
              "                        <td id=\"T_0b2205d4_3a30_11ec_937f_0242ac1c0002row3_col1\" class=\"data row3 col1\" >0.200000</td>\n",
              "                        <td id=\"T_0b2205d4_3a30_11ec_937f_0242ac1c0002row3_col2\" class=\"data row3 col2\" >1.300000</td>\n",
              "                        <td id=\"T_0b2205d4_3a30_11ec_937f_0242ac1c0002row3_col3\" class=\"data row3 col3\" >1.800000</td>\n",
              "            </tr>\n",
              "    </tbody></table>"
            ],
            "text/plain": [
              "<pandas.io.formats.style.Styler at 0x7f97160b8750>"
            ]
          },
          "metadata": {},
          "execution_count": 70
        }
      ]
    },
    {
      "cell_type": "code",
      "metadata": {
        "id": "srGvdFwwHo6U",
        "colab": {
          "base_uri": "https://localhost:8080/",
          "height": 190
        },
        "outputId": "4f4e1522-8297-4613-b3a3-4fb2a8de38dd"
      },
      "source": [
        "best_ways_to_rep = {\n",
        "    \"Representation\": [\n",
        "                        \"Sepal_length\", \n",
        "                        \"Sepal_width\", \n",
        "                        \"Petal_length\", \n",
        "                        \"Petal_width\"\n",
        "                    ],\n",
        "    \"Iris_Setaosa\": [\n",
        "                        Iris_setosa.mean().Sepal_length, \n",
        "                        Iris_setosa.mean().Sepal_width, \n",
        "                        Iris_setosa.mean().Petal_length, \n",
        "                        Iris_setosa.mean().Petal_width\n",
        "                    ],\n",
        "    \"Iris_Versicolor\": [\n",
        "                        Iris_versicolor.mean().Sepal_length, \n",
        "                        Iris_versicolor.mean().Sepal_width, \n",
        "                        Iris_versicolor.mean().Petal_length, \n",
        "                        Iris_versicolor.mean().Petal_width\n",
        "                    ],\n",
        "    \"Iris_Virginica\": [\n",
        "                        Iris_virginica.mean().Sepal_length, \n",
        "                        Iris_virginica.mean().Sepal_width, \n",
        "                        Iris_virginica.mean().Petal_length, \n",
        "                        Iris_virginica.mean().Petal_width\n",
        "                    ],\n",
        "}\n",
        "best_ways_to_rep_df = pd.DataFrame(best_ways_to_rep)\n",
        "best_ways_to_rep_df.name = \"Mean Table\"\n",
        "print(f\"                         {best_ways_to_rep_df.name}\")\n",
        "best_ways_to_rep_df.style.background_gradient(cmap='coolwarm')"
      ],
      "execution_count": 71,
      "outputs": [
        {
          "output_type": "stream",
          "name": "stdout",
          "text": [
            "                         Mean Table\n"
          ]
        },
        {
          "output_type": "execute_result",
          "data": {
            "text/html": [
              "<style  type=\"text/css\" >\n",
              "#T_157587c2_3a30_11ec_937f_0242ac1c0002row0_col1,#T_157587c2_3a30_11ec_937f_0242ac1c0002row0_col2,#T_157587c2_3a30_11ec_937f_0242ac1c0002row0_col3{\n",
              "            background-color:  #b40426;\n",
              "            color:  #f1f1f1;\n",
              "        }#T_157587c2_3a30_11ec_937f_0242ac1c0002row1_col1{\n",
              "            background-color:  #f7b89c;\n",
              "            color:  #000000;\n",
              "        }#T_157587c2_3a30_11ec_937f_0242ac1c0002row1_col2{\n",
              "            background-color:  #a3c2fe;\n",
              "            color:  #000000;\n",
              "        }#T_157587c2_3a30_11ec_937f_0242ac1c0002row1_col3{\n",
              "            background-color:  #7ea1fa;\n",
              "            color:  #000000;\n",
              "        }#T_157587c2_3a30_11ec_937f_0242ac1c0002row2_col1{\n",
              "            background-color:  #8fb1fe;\n",
              "            color:  #000000;\n",
              "        }#T_157587c2_3a30_11ec_937f_0242ac1c0002row2_col2{\n",
              "            background-color:  #f5c1a9;\n",
              "            color:  #000000;\n",
              "        }#T_157587c2_3a30_11ec_937f_0242ac1c0002row2_col3{\n",
              "            background-color:  #f29072;\n",
              "            color:  #000000;\n",
              "        }#T_157587c2_3a30_11ec_937f_0242ac1c0002row3_col1,#T_157587c2_3a30_11ec_937f_0242ac1c0002row3_col2,#T_157587c2_3a30_11ec_937f_0242ac1c0002row3_col3{\n",
              "            background-color:  #3b4cc0;\n",
              "            color:  #f1f1f1;\n",
              "        }</style><table id=\"T_157587c2_3a30_11ec_937f_0242ac1c0002\" class=\"dataframe\"><thead>    <tr>        <th class=\"blank level0\" ></th>        <th class=\"col_heading level0 col0\" >Representation</th>        <th class=\"col_heading level0 col1\" >Iris_Setaosa</th>        <th class=\"col_heading level0 col2\" >Iris_Versicolor</th>        <th class=\"col_heading level0 col3\" >Iris_Virginica</th>    </tr></thead><tbody>\n",
              "                <tr>\n",
              "                        <th id=\"T_157587c2_3a30_11ec_937f_0242ac1c0002level0_row0\" class=\"row_heading level0 row0\" >0</th>\n",
              "                        <td id=\"T_157587c2_3a30_11ec_937f_0242ac1c0002row0_col0\" class=\"data row0 col0\" >Sepal_length</td>\n",
              "                        <td id=\"T_157587c2_3a30_11ec_937f_0242ac1c0002row0_col1\" class=\"data row0 col1\" >5.004082</td>\n",
              "                        <td id=\"T_157587c2_3a30_11ec_937f_0242ac1c0002row0_col2\" class=\"data row0 col2\" >5.936000</td>\n",
              "                        <td id=\"T_157587c2_3a30_11ec_937f_0242ac1c0002row0_col3\" class=\"data row0 col3\" >6.588000</td>\n",
              "            </tr>\n",
              "            <tr>\n",
              "                        <th id=\"T_157587c2_3a30_11ec_937f_0242ac1c0002level0_row1\" class=\"row_heading level0 row1\" >1</th>\n",
              "                        <td id=\"T_157587c2_3a30_11ec_937f_0242ac1c0002row1_col0\" class=\"data row1 col0\" >Sepal_width</td>\n",
              "                        <td id=\"T_157587c2_3a30_11ec_937f_0242ac1c0002row1_col1\" class=\"data row1 col1\" >3.416327</td>\n",
              "                        <td id=\"T_157587c2_3a30_11ec_937f_0242ac1c0002row1_col2\" class=\"data row1 col2\" >2.770000</td>\n",
              "                        <td id=\"T_157587c2_3a30_11ec_937f_0242ac1c0002row1_col3\" class=\"data row1 col3\" >2.974000</td>\n",
              "            </tr>\n",
              "            <tr>\n",
              "                        <th id=\"T_157587c2_3a30_11ec_937f_0242ac1c0002level0_row2\" class=\"row_heading level0 row2\" >2</th>\n",
              "                        <td id=\"T_157587c2_3a30_11ec_937f_0242ac1c0002row2_col0\" class=\"data row2 col0\" >Petal_length</td>\n",
              "                        <td id=\"T_157587c2_3a30_11ec_937f_0242ac1c0002row2_col1\" class=\"data row2 col1\" >1.465306</td>\n",
              "                        <td id=\"T_157587c2_3a30_11ec_937f_0242ac1c0002row2_col2\" class=\"data row2 col2\" >4.260000</td>\n",
              "                        <td id=\"T_157587c2_3a30_11ec_937f_0242ac1c0002row2_col3\" class=\"data row2 col3\" >5.552000</td>\n",
              "            </tr>\n",
              "            <tr>\n",
              "                        <th id=\"T_157587c2_3a30_11ec_937f_0242ac1c0002level0_row3\" class=\"row_heading level0 row3\" >3</th>\n",
              "                        <td id=\"T_157587c2_3a30_11ec_937f_0242ac1c0002row3_col0\" class=\"data row3 col0\" >Petal_width</td>\n",
              "                        <td id=\"T_157587c2_3a30_11ec_937f_0242ac1c0002row3_col1\" class=\"data row3 col1\" >0.244898</td>\n",
              "                        <td id=\"T_157587c2_3a30_11ec_937f_0242ac1c0002row3_col2\" class=\"data row3 col2\" >1.326000</td>\n",
              "                        <td id=\"T_157587c2_3a30_11ec_937f_0242ac1c0002row3_col3\" class=\"data row3 col3\" >2.026000</td>\n",
              "            </tr>\n",
              "    </tbody></table>"
            ],
            "text/plain": [
              "<pandas.io.formats.style.Styler at 0x7f971650ff90>"
            ]
          },
          "metadata": {},
          "execution_count": 71
        }
      ]
    },
    {
      "cell_type": "code",
      "metadata": {
        "id": "liDnyqa6Ho1M"
      },
      "source": [
        ""
      ],
      "execution_count": 52,
      "outputs": []
    },
    {
      "cell_type": "code",
      "metadata": {
        "id": "SecXCvaSHozY"
      },
      "source": [
        ""
      ],
      "execution_count": 52,
      "outputs": []
    },
    {
      "cell_type": "code",
      "metadata": {
        "id": "ff08JJueHouy"
      },
      "source": [
        ""
      ],
      "execution_count": 52,
      "outputs": []
    },
    {
      "cell_type": "code",
      "metadata": {
        "id": "bccup8l7HotD"
      },
      "source": [
        ""
      ],
      "execution_count": 52,
      "outputs": []
    },
    {
      "cell_type": "code",
      "metadata": {
        "id": "eOXMChNgHooH"
      },
      "source": [
        ""
      ],
      "execution_count": 52,
      "outputs": []
    },
    {
      "cell_type": "code",
      "metadata": {
        "id": "KKvVppNfHomE"
      },
      "source": [
        ""
      ],
      "execution_count": 52,
      "outputs": []
    },
    {
      "cell_type": "code",
      "metadata": {
        "id": "ht3fRkkHHohi"
      },
      "source": [
        ""
      ],
      "execution_count": 52,
      "outputs": []
    },
    {
      "cell_type": "code",
      "metadata": {
        "id": "JJIbY7qqHofW"
      },
      "source": [
        ""
      ],
      "execution_count": 52,
      "outputs": []
    },
    {
      "cell_type": "code",
      "metadata": {
        "id": "7tac_mRLHocQ"
      },
      "source": [
        ""
      ],
      "execution_count": 52,
      "outputs": []
    },
    {
      "cell_type": "code",
      "metadata": {
        "id": "k6xXa1QJHoZF"
      },
      "source": [
        ""
      ],
      "execution_count": 52,
      "outputs": []
    },
    {
      "cell_type": "code",
      "metadata": {
        "id": "wcKQ5WToHoU5"
      },
      "source": [
        ""
      ],
      "execution_count": 52,
      "outputs": []
    },
    {
      "cell_type": "code",
      "metadata": {
        "id": "gk-hnTpWHoST"
      },
      "source": [
        ""
      ],
      "execution_count": 52,
      "outputs": []
    },
    {
      "cell_type": "code",
      "metadata": {
        "id": "95Qr9_1tHoPD"
      },
      "source": [
        ""
      ],
      "execution_count": 52,
      "outputs": []
    },
    {
      "cell_type": "code",
      "metadata": {
        "id": "pRn0oy8YHoNI"
      },
      "source": [
        ""
      ],
      "execution_count": 52,
      "outputs": []
    },
    {
      "cell_type": "code",
      "metadata": {
        "id": "nDeMO63mHoJF"
      },
      "source": [
        ""
      ],
      "execution_count": 52,
      "outputs": []
    },
    {
      "cell_type": "code",
      "metadata": {
        "id": "whp1X5SzHoHK"
      },
      "source": [
        ""
      ],
      "execution_count": 52,
      "outputs": []
    },
    {
      "cell_type": "code",
      "metadata": {
        "id": "_n5wRdv_Hn7Z"
      },
      "source": [
        ""
      ],
      "execution_count": 52,
      "outputs": []
    },
    {
      "cell_type": "code",
      "metadata": {
        "id": "dgcFhm7ZHn5f"
      },
      "source": [
        ""
      ],
      "execution_count": 52,
      "outputs": []
    },
    {
      "cell_type": "code",
      "metadata": {
        "id": "agRjUQLuHn09"
      },
      "source": [
        ""
      ],
      "execution_count": 52,
      "outputs": []
    },
    {
      "cell_type": "code",
      "metadata": {
        "id": "1ivsj3CUHnzG"
      },
      "source": [
        ""
      ],
      "execution_count": 52,
      "outputs": []
    },
    {
      "cell_type": "code",
      "metadata": {
        "id": "3ZsCF_twHnvn"
      },
      "source": [
        ""
      ],
      "execution_count": 52,
      "outputs": []
    },
    {
      "cell_type": "code",
      "metadata": {
        "id": "LOs8vKAuHnsx"
      },
      "source": [
        ""
      ],
      "execution_count": 52,
      "outputs": []
    },
    {
      "cell_type": "code",
      "metadata": {
        "id": "WYSlJvckHnoS"
      },
      "source": [
        ""
      ],
      "execution_count": 52,
      "outputs": []
    },
    {
      "cell_type": "code",
      "metadata": {
        "id": "AuW_K4yKHnmZ"
      },
      "source": [
        ""
      ],
      "execution_count": 52,
      "outputs": []
    },
    {
      "cell_type": "code",
      "metadata": {
        "id": "Z4QXXSfgHnh1"
      },
      "source": [
        ""
      ],
      "execution_count": 52,
      "outputs": []
    },
    {
      "cell_type": "code",
      "metadata": {
        "id": "ggTrW2gKHngT"
      },
      "source": [
        ""
      ],
      "execution_count": 52,
      "outputs": []
    },
    {
      "cell_type": "code",
      "metadata": {
        "id": "hKxWpssRHnbr"
      },
      "source": [
        ""
      ],
      "execution_count": 52,
      "outputs": []
    },
    {
      "cell_type": "code",
      "metadata": {
        "id": "I6HsAx8GHnZ2"
      },
      "source": [
        ""
      ],
      "execution_count": 52,
      "outputs": []
    },
    {
      "cell_type": "code",
      "metadata": {
        "id": "XMt-0uUyHnVx"
      },
      "source": [
        ""
      ],
      "execution_count": 52,
      "outputs": []
    },
    {
      "cell_type": "code",
      "metadata": {
        "id": "Lo9iJJB9HnT4"
      },
      "source": [
        ""
      ],
      "execution_count": 52,
      "outputs": []
    },
    {
      "cell_type": "code",
      "metadata": {
        "id": "5GZ_8OadHnQr"
      },
      "source": [
        ""
      ],
      "execution_count": 52,
      "outputs": []
    },
    {
      "cell_type": "code",
      "metadata": {
        "id": "Htz6fYZ6HnN0"
      },
      "source": [
        ""
      ],
      "execution_count": 52,
      "outputs": []
    },
    {
      "cell_type": "code",
      "metadata": {
        "id": "3taCTUA0HnJ6"
      },
      "source": [
        ""
      ],
      "execution_count": 52,
      "outputs": []
    },
    {
      "cell_type": "code",
      "metadata": {
        "id": "vn4-P-VtHnIX"
      },
      "source": [
        ""
      ],
      "execution_count": 52,
      "outputs": []
    },
    {
      "cell_type": "code",
      "metadata": {
        "id": "TyhN3NiBHnE2"
      },
      "source": [
        ""
      ],
      "execution_count": 52,
      "outputs": []
    },
    {
      "cell_type": "code",
      "metadata": {
        "id": "fwxXTGFGHnCL"
      },
      "source": [
        ""
      ],
      "execution_count": 52,
      "outputs": []
    },
    {
      "cell_type": "code",
      "metadata": {
        "id": "6okb6zsVHm95"
      },
      "source": [
        ""
      ],
      "execution_count": 52,
      "outputs": []
    },
    {
      "cell_type": "code",
      "metadata": {
        "id": "7wivm_t3Hm70"
      },
      "source": [
        ""
      ],
      "execution_count": 52,
      "outputs": []
    },
    {
      "cell_type": "code",
      "metadata": {
        "id": "KNZY3D6QHmxf"
      },
      "source": [
        ""
      ],
      "execution_count": 52,
      "outputs": []
    },
    {
      "cell_type": "code",
      "metadata": {
        "id": "TAhmtL6kHmkL"
      },
      "source": [
        ""
      ],
      "execution_count": 52,
      "outputs": []
    }
  ]
}